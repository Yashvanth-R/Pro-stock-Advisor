{
 "cells": [
  {
   "cell_type": "markdown",
   "id": "9fd0e612",
   "metadata": {},
   "source": [
    "#### Document Loaders In LangChain"
   ]
  },
  {
   "cell_type": "markdown",
   "id": "f9fe0e68",
   "metadata": {},
   "source": [
    "# 1)TextLoader"
   ]
  },
  {
   "cell_type": "code",
   "execution_count": 1,
   "id": "21041a07",
   "metadata": {
    "scrolled": true
   },
   "outputs": [
    {
     "name": "stdout",
     "output_type": "stream",
     "text": [
      "Defaulting to user installation because normal site-packages is not writeable\n",
      "Requirement already satisfied: langchain==0.0.316 in c:\\users\\yashvanth\\appdata\\roaming\\python\\python39\\site-packages (0.0.316)\n",
      "Requirement already satisfied: requests<3,>=2 in c:\\users\\yashvanth\\appdata\\roaming\\python\\python39\\site-packages (from langchain==0.0.316) (2.31.0)\n",
      "Requirement already satisfied: dataclasses-json<0.7,>=0.5.7 in c:\\users\\yashvanth\\appdata\\roaming\\python\\python39\\site-packages (from langchain==0.0.316) (0.5.14)\n",
      "Requirement already satisfied: pydantic<3,>=1 in c:\\users\\yashvanth\\appdata\\roaming\\python\\python39\\site-packages (from langchain==0.0.316) (1.10.11)\n",
      "Requirement already satisfied: aiohttp<4.0.0,>=3.8.3 in c:\\users\\yashvanth\\appdata\\roaming\\python\\python39\\site-packages (from langchain==0.0.316) (3.9.3)\n",
      "Requirement already satisfied: PyYAML>=5.3 in c:\\program files\\arcgis\\pro\\bin\\python\\envs\\arcgispro-py3\\lib\\site-packages (from langchain==0.0.316) (6.0)\n",
      "Requirement already satisfied: numpy<2,>=1 in c:\\users\\yashvanth\\appdata\\roaming\\python\\python39\\site-packages (from langchain==0.0.316) (1.23.5)\n",
      "Requirement already satisfied: anyio<4.0 in c:\\users\\yashvanth\\appdata\\roaming\\python\\python39\\site-packages (from langchain==0.0.316) (3.7.1)\n",
      "Requirement already satisfied: async-timeout<5.0.0,>=4.0.0 in c:\\users\\yashvanth\\appdata\\roaming\\python\\python39\\site-packages (from langchain==0.0.316) (4.0.3)\n",
      "Requirement already satisfied: langsmith<0.1.0,>=0.0.43 in c:\\users\\yashvanth\\appdata\\roaming\\python\\python39\\site-packages (from langchain==0.0.316) (0.0.92)\n",
      "Requirement already satisfied: SQLAlchemy<3,>=1.4 in c:\\users\\yashvanth\\appdata\\roaming\\python\\python39\\site-packages (from langchain==0.0.316) (2.0.29)\n",
      "Requirement already satisfied: tenacity<9.0.0,>=8.1.0 in c:\\users\\yashvanth\\appdata\\roaming\\python\\python39\\site-packages (from langchain==0.0.316) (8.3.0)\n",
      "Requirement already satisfied: jsonpatch<2.0,>=1.33 in c:\\users\\yashvanth\\appdata\\roaming\\python\\python39\\site-packages (from langchain==0.0.316) (1.33)\n",
      "Requirement already satisfied: frozenlist>=1.1.1 in c:\\users\\yashvanth\\appdata\\roaming\\python\\python39\\site-packages (from aiohttp<4.0.0,>=3.8.3->langchain==0.0.316) (1.4.1)\n",
      "Requirement already satisfied: yarl<2.0,>=1.0 in c:\\users\\yashvanth\\appdata\\roaming\\python\\python39\\site-packages (from aiohttp<4.0.0,>=3.8.3->langchain==0.0.316) (1.9.4)\n",
      "Requirement already satisfied: multidict<7.0,>=4.5 in c:\\users\\yashvanth\\appdata\\roaming\\python\\python39\\site-packages (from aiohttp<4.0.0,>=3.8.3->langchain==0.0.316) (6.0.5)\n",
      "Requirement already satisfied: attrs>=17.3.0 in c:\\program files\\arcgis\\pro\\bin\\python\\envs\\arcgispro-py3\\lib\\site-packages (from aiohttp<4.0.0,>=3.8.3->langchain==0.0.316) (21.4.0)\n",
      "Requirement already satisfied: aiosignal>=1.1.2 in c:\\users\\yashvanth\\appdata\\roaming\\python\\python39\\site-packages (from aiohttp<4.0.0,>=3.8.3->langchain==0.0.316) (1.3.1)\n",
      "Requirement already satisfied: sniffio>=1.1 in c:\\users\\yashvanth\\appdata\\roaming\\python\\python39\\site-packages (from anyio<4.0->langchain==0.0.316) (1.3.1)\n",
      "Requirement already satisfied: idna>=2.8 in c:\\users\\yashvanth\\appdata\\roaming\\python\\python39\\site-packages (from anyio<4.0->langchain==0.0.316) (3.7)\n",
      "Requirement already satisfied: exceptiongroup in c:\\users\\yashvanth\\appdata\\roaming\\python\\python39\\site-packages (from anyio<4.0->langchain==0.0.316) (1.2.1)\n",
      "Requirement already satisfied: typing-inspect<1,>=0.4.0 in c:\\users\\yashvanth\\appdata\\roaming\\python\\python39\\site-packages (from dataclasses-json<0.7,>=0.5.7->langchain==0.0.316) (0.9.0)\n",
      "Requirement already satisfied: marshmallow<4.0.0,>=3.18.0 in c:\\users\\yashvanth\\appdata\\roaming\\python\\python39\\site-packages (from dataclasses-json<0.7,>=0.5.7->langchain==0.0.316) (3.21.1)\n",
      "Requirement already satisfied: jsonpointer>=1.9 in c:\\users\\yashvanth\\appdata\\roaming\\python\\python39\\site-packages (from jsonpatch<2.0,>=1.33->langchain==0.0.316) (2.4)\n",
      "Requirement already satisfied: packaging>=17.0 in c:\\users\\yashvanth\\appdata\\roaming\\python\\python39\\site-packages (from marshmallow<4.0.0,>=3.18.0->dataclasses-json<0.7,>=0.5.7->langchain==0.0.316) (23.2)\n",
      "Requirement already satisfied: typing-extensions>=4.2.0 in c:\\users\\yashvanth\\appdata\\roaming\\python\\python39\\site-packages (from pydantic<3,>=1->langchain==0.0.316) (4.7.1)\n",
      "Requirement already satisfied: urllib3<3,>=1.21.1 in c:\\users\\yashvanth\\appdata\\roaming\\python\\python39\\site-packages (from requests<3,>=2->langchain==0.0.316) (2.2.1)\n",
      "Requirement already satisfied: charset-normalizer<4,>=2 in c:\\users\\yashvanth\\appdata\\roaming\\python\\python39\\site-packages (from requests<3,>=2->langchain==0.0.316) (3.3.2)\n",
      "Requirement already satisfied: certifi>=2017.4.17 in c:\\users\\yashvanth\\appdata\\roaming\\python\\python39\\site-packages (from requests<3,>=2->langchain==0.0.316) (2024.2.2)\n",
      "Requirement already satisfied: greenlet!=0.4.17 in c:\\users\\yashvanth\\appdata\\roaming\\python\\python39\\site-packages (from SQLAlchemy<3,>=1.4->langchain==0.0.316) (3.0.3)\n",
      "Requirement already satisfied: mypy-extensions>=0.3.0 in c:\\users\\yashvanth\\appdata\\roaming\\python\\python39\\site-packages (from typing-inspect<1,>=0.4.0->dataclasses-json<0.7,>=0.5.7->langchain==0.0.316) (1.0.0)\n",
      "Defaulting to user installation because normal site-packages is not writeable\n",
      "Requirement already satisfied: openai==0.28.1 in c:\\users\\yashvanth\\appdata\\roaming\\python\\python39\\site-packages (0.28.1)\n",
      "Requirement already satisfied: aiohttp in c:\\users\\yashvanth\\appdata\\roaming\\python\\python39\\site-packages (from openai==0.28.1) (3.9.3)\n",
      "Requirement already satisfied: requests>=2.20 in c:\\users\\yashvanth\\appdata\\roaming\\python\\python39\\site-packages (from openai==0.28.1) (2.31.0)\n",
      "Requirement already satisfied: tqdm in c:\\users\\yashvanth\\appdata\\roaming\\python\\python39\\site-packages (from openai==0.28.1) (4.65.0)\n",
      "Requirement already satisfied: idna<4,>=2.5 in c:\\users\\yashvanth\\appdata\\roaming\\python\\python39\\site-packages (from requests>=2.20->openai==0.28.1) (3.7)\n",
      "Requirement already satisfied: certifi>=2017.4.17 in c:\\users\\yashvanth\\appdata\\roaming\\python\\python39\\site-packages (from requests>=2.20->openai==0.28.1) (2024.2.2)\n",
      "Requirement already satisfied: charset-normalizer<4,>=2 in c:\\users\\yashvanth\\appdata\\roaming\\python\\python39\\site-packages (from requests>=2.20->openai==0.28.1) (3.3.2)\n",
      "Requirement already satisfied: urllib3<3,>=1.21.1 in c:\\users\\yashvanth\\appdata\\roaming\\python\\python39\\site-packages (from requests>=2.20->openai==0.28.1) (2.2.1)\n",
      "Requirement already satisfied: frozenlist>=1.1.1 in c:\\users\\yashvanth\\appdata\\roaming\\python\\python39\\site-packages (from aiohttp->openai==0.28.1) (1.4.1)\n",
      "Requirement already satisfied: attrs>=17.3.0 in c:\\program files\\arcgis\\pro\\bin\\python\\envs\\arcgispro-py3\\lib\\site-packages (from aiohttp->openai==0.28.1) (21.4.0)\n",
      "Requirement already satisfied: multidict<7.0,>=4.5 in c:\\users\\yashvanth\\appdata\\roaming\\python\\python39\\site-packages (from aiohttp->openai==0.28.1) (6.0.5)\n",
      "Requirement already satisfied: async-timeout<5.0,>=4.0 in c:\\users\\yashvanth\\appdata\\roaming\\python\\python39\\site-packages (from aiohttp->openai==0.28.1) (4.0.3)\n",
      "Requirement already satisfied: aiosignal>=1.1.2 in c:\\users\\yashvanth\\appdata\\roaming\\python\\python39\\site-packages (from aiohttp->openai==0.28.1) (1.3.1)\n",
      "Requirement already satisfied: yarl<2.0,>=1.0 in c:\\users\\yashvanth\\appdata\\roaming\\python\\python39\\site-packages (from aiohttp->openai==0.28.1) (1.9.4)\n",
      "Requirement already satisfied: colorama in c:\\users\\yashvanth\\appdata\\roaming\\python\\python39\\site-packages (from tqdm->openai==0.28.1) (0.4.6)\n"
     ]
    }
   ],
   "source": [
    "!pip install langchain==0.0.316\n",
    "!pip install openai==0.28.1"
   ]
  },
  {
   "cell_type": "code",
   "execution_count": 2,
   "id": "c366cb2f",
   "metadata": {},
   "outputs": [],
   "source": [
    "from langchain_community.llms import Ollama\n",
    "llm = Ollama(model=\"llama2\")"
   ]
  },
  {
   "cell_type": "code",
   "execution_count": 3,
   "id": "4825e77a",
   "metadata": {},
   "outputs": [
    {
     "data": {
      "text/plain": [
       "[Document(page_content=\"The stock of NVIDIA Corp (NASDAQ:NVDA) experienced a daily loss of -3.56% and a 3-month gain of 32.35%. With an Earnings Per Share (EPS) (EPS) of $1.92, the question arises: is the stock significantly overvalued? This article aims to provide a detailed valuation analysis of NVIDIA, offering insights into its financial strength, profitability, growth, and more. We invite you to delve into this comprehensive analysis.\\n\\nCompany Overview\\nWarning! GuruFocus has detected 10 Warning Signs with NVDA. Click here to check it out.\\n\\nNVDA 30-Year Financial Data\\n\\nThe intrinsic value of NVDA\\n\\n\\nNVIDIA Corp (NASDAQ:NVDA) is a leading designer of discrete graphics processing units that enhance the experience on computing platforms. The firm's chips are widely used in various end markets, including PC gaming and data centers. In recent years, NVIDIA has broadened its focus from traditional PC graphics applications such as gaming to more complex and favorable opportunities, including artificial intelligence and autonomous driving, leveraging the high-performance capabilities of its products.\\n\\nCurrently, NVIDIA's stock price stands at $418.01, significantly higher than the GF Value of $310.28, indicating the stock might be overvalued. With a market cap of $1 trillion, the valuation seems steep. The following analysis aims to delve deeper into the company's value.\\n\\nIs NVIDIA's Stock Significantly Overvalued? A Comprehensive Valuation Analysis\\nIs NVIDIA's Stock Significantly Overvalued? A Comprehensive Valuation Analysis\\nUnderstanding the GF Value\\nThe GF Value is a unique measure of the intrinsic value of a stock, calculated based on historical trading multiples, a GuruFocus adjustment factor, and future business performance estimates. If the stock price is significantly above the GF Value Line, it is overvalued, and its future return is likely to be poor. Conversely, if it is significantly below the GF Value Line, its future return will likely be higher.\\n\\nAccording to GuruFocus Value calculation, NVIDIA (NASDAQ:NVDA) appears to be significantly overvalued. The stock's current price of $418.01 per share and the market cap of $1 trillion further strengthen this assumption.\\n\\nGiven that NVIDIA is significantly overvalued, the long-term return of its stock is likely to be much lower than its future business growth.\\n\\nIs NVIDIA's Stock Significantly Overvalued? A Comprehensive Valuation Analysis\\nIs NVIDIA's Stock Significantly Overvalued? A Comprehensive Valuation Analysis\\nLink: These companies may deliver higher future returns at reduced risk.\\n\\nFinancial Strength of NVIDIA\\nExamining the financial strength of a company is crucial before investing in its stock. Companies with poor financial strength pose a higher risk of permanent loss. NVIDIA's cash-to-debt ratio of 1.27 is worse than 58.04% of companies in the Semiconductors industry. However, NVIDIA's overall financial strength is 8 out of 10, indicating a strong financial position.\\n\\nIs NVIDIA's Stock Significantly Overvalued? A Comprehensive Valuation Analysis\\nIs NVIDIA's Stock Significantly Overvalued? A Comprehensive Valuation Analysis\\nProfitability and Growth\\nConsistent profitability over the long term reduces the risk for investors. NVIDIA, with its profitability ranking of 10 out of 10, has been profitable for the past 10 years. The company's operating margin of 17.37% ranks better than 76.5% of companies in the Semiconductors industry.\\n\\nHowever, growth is a crucial factor in a company's valuation. NVIDIA's growth ranks worse than 52.99% of companies in the Semiconductors industry, with its 3-year average revenue growth rate better than 87.88% of companies in the industry.\\n\\nROIC vs WACC\\nComparing a company's return on invested capital (ROIC) to its weighted average cost of capital (WACC) is an effective way to evaluate its profitability. Over the past 12 months, NVIDIA's ROIC was 20.32 while its WACC was 16.74, suggesting that the company is creating value for its shareholders.\\n\\nIs NVIDIA's Stock Significantly Overvalued? A Comprehensive Valuation Analysis\\nIs NVIDIA's Stock Significantly Overvalued? A Comprehensive Valuation Analysis\\nConclusion\\nIn conclusion, NVIDIA (NASDAQ:NVDA) appears to be significantly overvalued. Despite its strong financial condition and profitability, its growth ranks lower than 52.99% of companies in the Semiconductors industry. To learn more about NVIDIA stock, you can check out its 30-Year Financials here.\\n\\nTo find out the high quality companies that may deliver above-average returns, please check out GuruFocus High Quality Low Capex Screener.\\n\\nThis article first appeared on GuruFocus.\", metadata={'source': 'nvda_news_1.txt'})]"
      ]
     },
     "execution_count": 3,
     "metadata": {},
     "output_type": "execute_result"
    }
   ],
   "source": [
    "from langchain.document_loaders import TextLoader\n",
    "\n",
    "loader = TextLoader(\"nvda_news_1.txt\")\n",
    "loader.load()"
   ]
  },
  {
   "cell_type": "code",
   "execution_count": 4,
   "id": "2fd6091e",
   "metadata": {},
   "outputs": [
    {
     "data": {
      "text/plain": [
       "langchain.document_loaders.text.TextLoader"
      ]
     },
     "execution_count": 4,
     "metadata": {},
     "output_type": "execute_result"
    }
   ],
   "source": [
    "type(loader)"
   ]
  },
  {
   "cell_type": "code",
   "execution_count": 5,
   "id": "bdf932b9",
   "metadata": {},
   "outputs": [
    {
     "data": {
      "text/plain": [
       "'nvda_news_1.txt'"
      ]
     },
     "execution_count": 5,
     "metadata": {},
     "output_type": "execute_result"
    }
   ],
   "source": [
    "loader.file_path"
   ]
  },
  {
   "cell_type": "markdown",
   "id": "fd1f686a",
   "metadata": {},
   "source": [
    "# 2) CSV LOADER"
   ]
  },
  {
   "cell_type": "code",
   "execution_count": 6,
   "id": "aaef41dc",
   "metadata": {},
   "outputs": [],
   "source": [
    "from langchain.document_loaders.csv_loader import CSVLoader"
   ]
  },
  {
   "cell_type": "code",
   "execution_count": null,
   "id": "9bd6df56",
   "metadata": {},
   "outputs": [
    {
     "data": {
      "text/plain": [
       "[Document(page_content='movie_id: 101\\ntitle: Jailer\\nindustry: Kollywood\\nrelease_year: 2023\\nimdb_rating: 7.1\\nstudio: Sun Pictures\\nlanguage_id: 1\\nbudget: 200\\nrevenue: 600\\nunit: Millions\\ncurrency: INR', metadata={'source': 'movies.csv', 'row': 0}),\n",
       " Document(page_content='movie_id: 102\\ntitle: Doctor Strange in the Multiverse of Madness\\nindustry: Hollywood\\nrelease_year: 2022\\nimdb_rating: 7\\nstudio: Marvel Studios\\nlanguage_id: 5\\nbudget: 200\\nrevenue: 954.8\\nunit: Millions\\ncurrency: USD', metadata={'source': 'movies.csv', 'row': 1}),\n",
       " Document(page_content='movie_id: 103\\ntitle: Thor: The Dark World\\nindustry: Hollywood\\nrelease_year: 2013\\nimdb_rating: 6.8\\nstudio: Marvel Studios\\nlanguage_id: 5\\nbudget: 165\\nrevenue: 644.8\\nunit: Millions\\ncurrency: USD', metadata={'source': 'movies.csv', 'row': 2}),\n",
       " Document(page_content='movie_id: 104\\ntitle: Pushpa:The Rise\\nindustry: Tollywood\\nrelease_year: 2021\\nimdb_rating: 7.6\\nstudio: Mythri Movie Makers\\nlanguage_id: 5\\nbudget: 200\\nrevenue: 360\\nunit: Millions\\ncurrency: INR', metadata={'source': 'movies.csv', 'row': 3}),\n",
       " Document(page_content='movie_id: 105\\ntitle: Thor: Love and Thunder\\nindustry: Hollywood\\nrelease_year: 2022\\nimdb_rating: 6.8\\nstudio: Marvel Studios\\nlanguage_id: 5\\nbudget: 250\\nrevenue: 670\\nunit: Millions\\ncurrency: USD', metadata={'source': 'movies.csv', 'row': 4}),\n",
       " Document(page_content='movie_id: 106\\ntitle: RRR\\nindustry: Tollywood\\nrelease_year: 2022\\nimdb_rating: 7.8\\nstudio: DVV\\nlanguage_id: 1\\nbudget: 600\\nrevenue: 1300\\nunit: Millions\\ncurrency: INR', metadata={'source': 'movies.csv', 'row': 5}),\n",
       " Document(page_content='movie_id: 107\\ntitle: Dilwale Dulhania Le Jayenge\\nindustry: Bollywood\\nrelease_year: 1995\\nimdb_rating: 8\\nstudio: Yash Raj Films\\nlanguage_id: 1\\nbudget: 400\\nrevenue: 2000\\nunit: Millions\\ncurrency: INR', metadata={'source': 'movies.csv', 'row': 6}),\n",
       " Document(page_content='movie_id: 108\\ntitle: 3 Idiots\\nindustry: Bollywood\\nrelease_year: 2009\\nimdb_rating: 8.4\\nstudio: Vinod Chopra Films\\nlanguage_id: 1\\nbudget: 550\\nrevenue: 4000\\nunit: Millions\\ncurrency: INR', metadata={'source': 'movies.csv', 'row': 7}),\n",
       " Document(page_content='movie_id: 109\\ntitle: Kabhi Khushi Kabhie Gham\\nindustry: Bollywood\\nrelease_year: 2001\\nimdb_rating: 7.4\\nstudio: Dharma Productions\\nlanguage_id: 1\\nbudget: 390\\nrevenue: 1360\\nunit: Millions\\ncurrency: INR', metadata={'source': 'movies.csv', 'row': 8}),\n",
       " Document(page_content='movie_id: 110\\ntitle: K.G.F: Chapter 2\\nindustry: Sandalwood\\nrelease_year: 2022\\nimdb_rating: 8.4\\nstudio: Hombale Films\\nlanguage_id: 3\\nbudget: 100\\nrevenue: 12.5\\nunit: Billions\\ncurrency: INR', metadata={'source': 'movies.csv', 'row': 9})]"
      ]
     },
     "execution_count": 7,
     "metadata": {},
     "output_type": "execute_result"
    }
   ],
   "source": [
    "loader = CSVLoader(file_path=\"Datasets\\movies.csv\")\n",
    "data = loader.load()\n",
    "data"
   ]
  },
  {
   "cell_type": "code",
   "execution_count": 8,
   "id": "b4c7dd2e",
   "metadata": {},
   "outputs": [
    {
     "data": {
      "text/plain": [
       "Document(page_content='movie_id: 101\\ntitle: Jailer\\nindustry: Kollywood\\nrelease_year: 2023\\nimdb_rating: 7.1\\nstudio: Sun Pictures\\nlanguage_id: 1\\nbudget: 200\\nrevenue: 600\\nunit: Millions\\ncurrency: INR', metadata={'source': 'movies.csv', 'row': 0})"
      ]
     },
     "execution_count": 8,
     "metadata": {},
     "output_type": "execute_result"
    }
   ],
   "source": [
    "data[0]"
   ]
  },
  {
   "cell_type": "code",
   "execution_count": null,
   "id": "04289417",
   "metadata": {},
   "outputs": [
    {
     "data": {
      "text/plain": [
       "[Document(page_content='movie_id: 101\\ntitle: Jailer\\nindustry: Kollywood\\nrelease_year: 2023\\nimdb_rating: 7.1\\nstudio: Sun Pictures\\nlanguage_id: 1\\nbudget: 200\\nrevenue: 600\\nunit: Millions\\ncurrency: INR', metadata={'source': 'Jailer', 'row': 0}),\n",
       " Document(page_content='movie_id: 102\\ntitle: Doctor Strange in the Multiverse of Madness\\nindustry: Hollywood\\nrelease_year: 2022\\nimdb_rating: 7\\nstudio: Marvel Studios\\nlanguage_id: 5\\nbudget: 200\\nrevenue: 954.8\\nunit: Millions\\ncurrency: USD', metadata={'source': 'Doctor Strange in the Multiverse of Madness', 'row': 1}),\n",
       " Document(page_content='movie_id: 103\\ntitle: Thor: The Dark World\\nindustry: Hollywood\\nrelease_year: 2013\\nimdb_rating: 6.8\\nstudio: Marvel Studios\\nlanguage_id: 5\\nbudget: 165\\nrevenue: 644.8\\nunit: Millions\\ncurrency: USD', metadata={'source': 'Thor: The Dark World', 'row': 2}),\n",
       " Document(page_content='movie_id: 104\\ntitle: Pushpa:The Rise\\nindustry: Tollywood\\nrelease_year: 2021\\nimdb_rating: 7.6\\nstudio: Mythri Movie Makers\\nlanguage_id: 5\\nbudget: 200\\nrevenue: 360\\nunit: Millions\\ncurrency: INR', metadata={'source': 'Pushpa:The Rise', 'row': 3}),\n",
       " Document(page_content='movie_id: 105\\ntitle: Thor: Love and Thunder\\nindustry: Hollywood\\nrelease_year: 2022\\nimdb_rating: 6.8\\nstudio: Marvel Studios\\nlanguage_id: 5\\nbudget: 250\\nrevenue: 670\\nunit: Millions\\ncurrency: USD', metadata={'source': 'Thor: Love and Thunder', 'row': 4}),\n",
       " Document(page_content='movie_id: 106\\ntitle: RRR\\nindustry: Tollywood\\nrelease_year: 2022\\nimdb_rating: 7.8\\nstudio: DVV\\nlanguage_id: 1\\nbudget: 600\\nrevenue: 1300\\nunit: Millions\\ncurrency: INR', metadata={'source': 'RRR', 'row': 5}),\n",
       " Document(page_content='movie_id: 107\\ntitle: Dilwale Dulhania Le Jayenge\\nindustry: Bollywood\\nrelease_year: 1995\\nimdb_rating: 8\\nstudio: Yash Raj Films\\nlanguage_id: 1\\nbudget: 400\\nrevenue: 2000\\nunit: Millions\\ncurrency: INR', metadata={'source': 'Dilwale Dulhania Le Jayenge', 'row': 6}),\n",
       " Document(page_content='movie_id: 108\\ntitle: 3 Idiots\\nindustry: Bollywood\\nrelease_year: 2009\\nimdb_rating: 8.4\\nstudio: Vinod Chopra Films\\nlanguage_id: 1\\nbudget: 550\\nrevenue: 4000\\nunit: Millions\\ncurrency: INR', metadata={'source': '3 Idiots', 'row': 7}),\n",
       " Document(page_content='movie_id: 109\\ntitle: Kabhi Khushi Kabhie Gham\\nindustry: Bollywood\\nrelease_year: 2001\\nimdb_rating: 7.4\\nstudio: Dharma Productions\\nlanguage_id: 1\\nbudget: 390\\nrevenue: 1360\\nunit: Millions\\ncurrency: INR', metadata={'source': 'Kabhi Khushi Kabhie Gham', 'row': 8}),\n",
       " Document(page_content='movie_id: 110\\ntitle: K.G.F: Chapter 2\\nindustry: Sandalwood\\nrelease_year: 2022\\nimdb_rating: 8.4\\nstudio: Hombale Films\\nlanguage_id: 3\\nbudget: 100\\nrevenue: 12.5\\nunit: Billions\\ncurrency: INR', metadata={'source': 'K.G.F: Chapter 2', 'row': 9})]"
      ]
     },
     "execution_count": 9,
     "metadata": {},
     "output_type": "execute_result"
    }
   ],
   "source": [
    "loader = CSVLoader(file_path=\"Datasets\\movies.csv\", source_column=\"title\")\n",
    "data = loader.load()\n",
    "data"
   ]
  },
  {
   "cell_type": "code",
   "execution_count": 10,
   "id": "2b630840",
   "metadata": {},
   "outputs": [
    {
     "data": {
      "text/plain": [
       "'movie_id: 101\\ntitle: Jailer\\nindustry: Kollywood\\nrelease_year: 2023\\nimdb_rating: 7.1\\nstudio: Sun Pictures\\nlanguage_id: 1\\nbudget: 200\\nrevenue: 600\\nunit: Millions\\ncurrency: INR'"
      ]
     },
     "execution_count": 10,
     "metadata": {},
     "output_type": "execute_result"
    }
   ],
   "source": [
    "data[0].page_content"
   ]
  },
  {
   "cell_type": "code",
   "execution_count": 11,
   "id": "63ecc538",
   "metadata": {},
   "outputs": [
    {
     "data": {
      "text/plain": [
       "{'source': 'Jailer', 'row': 0}"
      ]
     },
     "execution_count": 11,
     "metadata": {},
     "output_type": "execute_result"
    }
   ],
   "source": [
    "data[0].metadata"
   ]
  },
  {
   "cell_type": "markdown",
   "id": "70781249",
   "metadata": {},
   "source": [
    "# 3) UnstructuredURLLoader\n",
    "UnstructuredURLLoader of Langchain internally uses unstructured python library to load the content from url's\n",
    "\n",
    "https://sj-langchain.readthedocs.io/en/latest/document_loaders/langchain.document_loaders.unstructured.UnstructuredFileLoader.html\n",
    "\n",
    "https://unstructured-io.github.io/unstructured/core/partition.html"
   ]
  },
  {
   "cell_type": "code",
   "execution_count": 12,
   "id": "be0c6819",
   "metadata": {
    "scrolled": true
   },
   "outputs": [
    {
     "name": "stdout",
     "output_type": "stream",
     "text": [
      "Defaulting to user installation because normal site-packages is not writeable\n",
      "Requirement already satisfied: unstructured in c:\\users\\yashvanth\\appdata\\roaming\\python\\python39\\site-packages (0.13.2)\n",
      "Requirement already satisfied: libmagic in c:\\users\\yashvanth\\appdata\\roaming\\python\\python39\\site-packages (1.0)\n",
      "Requirement already satisfied: python-magic in c:\\users\\yashvanth\\appdata\\roaming\\python\\python39\\site-packages (0.4.27)\n",
      "Requirement already satisfied: python-magic-bin in c:\\users\\yashvanth\\appdata\\roaming\\python\\python39\\site-packages (0.4.14)\n",
      "Requirement already satisfied: beautifulsoup4 in c:\\users\\yashvanth\\appdata\\roaming\\python\\python39\\site-packages (from unstructured) (4.12.3)\n",
      "Requirement already satisfied: wrapt in c:\\program files\\arcgis\\pro\\bin\\python\\envs\\arcgispro-py3\\lib\\site-packages (from unstructured) (1.13.3)\n",
      "Requirement already satisfied: numpy in c:\\users\\yashvanth\\appdata\\roaming\\python\\python39\\site-packages (from unstructured) (1.23.5)\n",
      "Requirement already satisfied: requests in c:\\users\\yashvanth\\appdata\\roaming\\python\\python39\\site-packages (from unstructured) (2.31.0)\n",
      "Requirement already satisfied: emoji in c:\\users\\yashvanth\\appdata\\roaming\\python\\python39\\site-packages (from unstructured) (2.11.0)\n",
      "Requirement already satisfied: unstructured-client<=0.18.0 in c:\\users\\yashvanth\\appdata\\roaming\\python\\python39\\site-packages (from unstructured) (0.18.0)\n",
      "Requirement already satisfied: typing-extensions in c:\\users\\yashvanth\\appdata\\roaming\\python\\python39\\site-packages (from unstructured) (4.7.1)\n",
      "Requirement already satisfied: filetype in c:\\users\\yashvanth\\appdata\\roaming\\python\\python39\\site-packages (from unstructured) (1.2.0)\n",
      "Requirement already satisfied: chardet in c:\\program files\\arcgis\\pro\\bin\\python\\envs\\arcgispro-py3\\lib\\site-packages (from unstructured) (4.0.0)\n",
      "Requirement already satisfied: langdetect in c:\\users\\yashvanth\\appdata\\roaming\\python\\python39\\site-packages (from unstructured) (1.0.9)\n",
      "Requirement already satisfied: python-iso639 in c:\\users\\yashvanth\\appdata\\roaming\\python\\python39\\site-packages (from unstructured) (2024.2.7)\n",
      "Requirement already satisfied: lxml in c:\\program files\\arcgis\\pro\\bin\\python\\envs\\arcgispro-py3\\lib\\site-packages (from unstructured) (4.8.0)\n",
      "Requirement already satisfied: nltk in c:\\users\\yashvanth\\appdata\\roaming\\python\\python39\\site-packages (from unstructured) (3.8.1)\n",
      "Requirement already satisfied: dataclasses-json in c:\\users\\yashvanth\\appdata\\roaming\\python\\python39\\site-packages (from unstructured) (0.5.14)\n",
      "Requirement already satisfied: rapidfuzz in c:\\users\\yashvanth\\appdata\\roaming\\python\\python39\\site-packages (from unstructured) (3.8.1)\n",
      "Requirement already satisfied: backoff in c:\\users\\yashvanth\\appdata\\roaming\\python\\python39\\site-packages (from unstructured) (2.2.1)\n",
      "Requirement already satisfied: tabulate in c:\\users\\yashvanth\\appdata\\roaming\\python\\python39\\site-packages (from unstructured) (0.9.0)\n",
      "Requirement already satisfied: idna>=3.4 in c:\\users\\yashvanth\\appdata\\roaming\\python\\python39\\site-packages (from unstructured-client<=0.18.0->unstructured) (3.7)\n",
      "Requirement already satisfied: certifi>=2023.7.22 in c:\\users\\yashvanth\\appdata\\roaming\\python\\python39\\site-packages (from unstructured-client<=0.18.0->unstructured) (2024.2.2)\n",
      "Requirement already satisfied: python-dateutil>=2.8.2 in c:\\program files\\arcgis\\pro\\bin\\python\\envs\\arcgispro-py3\\lib\\site-packages (from unstructured-client<=0.18.0->unstructured) (2.8.2)\n",
      "Requirement already satisfied: dataclasses-json-speakeasy>=0.5.11 in c:\\users\\yashvanth\\appdata\\roaming\\python\\python39\\site-packages (from unstructured-client<=0.18.0->unstructured) (0.5.11)\n",
      "Requirement already satisfied: six>=1.16.0 in c:\\program files\\arcgis\\pro\\bin\\python\\envs\\arcgispro-py3\\lib\\site-packages (from unstructured-client<=0.18.0->unstructured) (1.16.0)\n",
      "Requirement already satisfied: packaging>=23.1 in c:\\users\\yashvanth\\appdata\\roaming\\python\\python39\\site-packages (from unstructured-client<=0.18.0->unstructured) (23.2)\n",
      "Requirement already satisfied: charset-normalizer>=3.2.0 in c:\\users\\yashvanth\\appdata\\roaming\\python\\python39\\site-packages (from unstructured-client<=0.18.0->unstructured) (3.3.2)\n",
      "Requirement already satisfied: mypy-extensions>=1.0.0 in c:\\users\\yashvanth\\appdata\\roaming\\python\\python39\\site-packages (from unstructured-client<=0.18.0->unstructured) (1.0.0)\n",
      "Requirement already satisfied: jsonpath-python>=1.0.6 in c:\\users\\yashvanth\\appdata\\roaming\\python\\python39\\site-packages (from unstructured-client<=0.18.0->unstructured) (1.0.6)\n",
      "Requirement already satisfied: typing-inspect>=0.9.0 in c:\\users\\yashvanth\\appdata\\roaming\\python\\python39\\site-packages (from unstructured-client<=0.18.0->unstructured) (0.9.0)\n",
      "Requirement already satisfied: marshmallow>=3.19.0 in c:\\users\\yashvanth\\appdata\\roaming\\python\\python39\\site-packages (from unstructured-client<=0.18.0->unstructured) (3.21.1)\n",
      "Requirement already satisfied: urllib3>=1.26.18 in c:\\users\\yashvanth\\appdata\\roaming\\python\\python39\\site-packages (from unstructured-client<=0.18.0->unstructured) (2.2.1)\n",
      "Requirement already satisfied: soupsieve>1.2 in c:\\users\\yashvanth\\appdata\\roaming\\python\\python39\\site-packages (from beautifulsoup4->unstructured) (2.5)\n",
      "Requirement already satisfied: click in c:\\users\\yashvanth\\appdata\\roaming\\python\\python39\\site-packages (from nltk->unstructured) (8.1.3)\n",
      "Requirement already satisfied: regex>=2021.8.3 in c:\\program files\\arcgis\\pro\\bin\\python\\envs\\arcgispro-py3\\lib\\site-packages (from nltk->unstructured) (2022.3.15)\n",
      "Requirement already satisfied: joblib in c:\\users\\yashvanth\\appdata\\roaming\\python\\python39\\site-packages (from nltk->unstructured) (1.2.0)\n",
      "Requirement already satisfied: tqdm in c:\\users\\yashvanth\\appdata\\roaming\\python\\python39\\site-packages (from nltk->unstructured) (4.65.0)\n",
      "Requirement already satisfied: colorama in c:\\users\\yashvanth\\appdata\\roaming\\python\\python39\\site-packages (from click->nltk->unstructured) (0.4.6)\n"
     ]
    }
   ],
   "source": [
    "#installing necessary libraries, libmagic is used for file type detection\n",
    "!pip3 install unstructured libmagic python-magic python-magic-bin"
   ]
  },
  {
   "cell_type": "code",
   "execution_count": 13,
   "id": "0f7cb0a1",
   "metadata": {},
   "outputs": [],
   "source": [
    "from langchain.document_loaders import UnstructuredURLLoader"
   ]
  },
  {
   "cell_type": "code",
   "execution_count": 14,
   "id": "9830f083",
   "metadata": {},
   "outputs": [],
   "source": [
    "loader = UnstructuredURLLoader(\n",
    "    urls = [\n",
    "        \"https://www.moneycontrol.com/news/business/banks/hdfc-bank-re-appoints-sanmoy-chakrabarti-as-chief-risk-officer-11259771.html\",\n",
    "        \"https://www.moneycontrol.com/news/business/technology/facebook-metaverse-strategy-raise-questions-11782361.html\",\n",
    "        \"https://www.moneycontrol.com/news/business/markets/market-corrects-post-rbi-ups-inflation-forecast-icrr-bet-on-these-top-10-rate-sensitive-stocks-ideas-11142611.html\"\n",
    "    ]\n",
    ")"
   ]
  },
  {
   "cell_type": "code",
   "execution_count": 15,
   "id": "9f0076ba",
   "metadata": {},
   "outputs": [
    {
     "data": {
      "text/plain": [
       "3"
      ]
     },
     "execution_count": 15,
     "metadata": {},
     "output_type": "execute_result"
    }
   ],
   "source": [
    "data = loader.load()\n",
    "len(data)"
   ]
  },
  {
   "cell_type": "code",
   "execution_count": 16,
   "id": "8748bfd4",
   "metadata": {},
   "outputs": [
    {
     "data": {
      "text/plain": [
       "'indi\\n\\nGujarati\\n\\nSpecials\\n\\nMoneycontrol Trending Stock\\n\\nInfosys\\xa0INE009A01021, INFY, 500209\\n'"
      ]
     },
     "execution_count": 16,
     "metadata": {},
     "output_type": "execute_result"
    }
   ],
   "source": [
    "data[0].page_content[10:100]"
   ]
  },
  {
   "cell_type": "code",
   "execution_count": 17,
   "id": "daa8389c",
   "metadata": {},
   "outputs": [
    {
     "data": {
      "text/plain": [
       "{'source': 'https://www.moneycontrol.com/news/business/banks/hdfc-bank-re-appoints-sanmoy-chakrabarti-as-chief-risk-officer-11259771.html'}"
      ]
     },
     "execution_count": 17,
     "metadata": {},
     "output_type": "execute_result"
    }
   ],
   "source": [
    "data[0].metadata"
   ]
  },
  {
   "cell_type": "markdown",
   "id": "78f12132",
   "metadata": {},
   "source": [
    "# Text Splitters\n",
    "Why do we need text splitters in first place?\n",
    "\n",
    "LLM's have token limits. Hence we need to split the text which can be large into small chunks so that each chunk size is under the token limit. There are various text splitter classes in langchain that allows us to do this."
   ]
  },
  {
   "cell_type": "code",
   "execution_count": 18,
   "id": "2529be33",
   "metadata": {},
   "outputs": [],
   "source": [
    "text = \"\"\"On 22 July 2019, ISRO launched Chandrayaan-2 on board a Launch Vehicle Mark-3 (LVM3) launch vehicle consisting of an orbiter, a lander and a rover. The lander was scheduled to touch down on the lunar surface on 6 September 2019 to deploy the Pragyan rover. \n",
    "The lander lost contact with mission control, deviated from its intended trajectory while attempting to land near the lunar south pole, and crashed.\n",
    "\n",
    "The lunar south pole region holds particular interest for scientific exploration. Studies show large amounts of ice there. The ice could contain solid-state compounds that would normally melt under warmer conditions elsewhere on the Moon—compounds which could provide insight into lunar, Earth, and Solar System history. \n",
    "Mountains and craters create unpredictable lighting that protect the ice from melting, but they also make landing there a challenging undertaking for scientific probes. \n",
    "For future crewed missions and outposts, the ice could also be a source of oxygen, of drinking water as well as of fuel due to its hydrogen content.\n",
    "\n",
    "The European Space Tracking network (ESTRACK), operated by the European Space Agency (ESA), and Deep Space Network operated by Jet Propulsion Laboratory (JPL) of NASA are supporting the mission. \n",
    "Under a new cross-support arrangement, ESA tracking support could be provided for upcoming ISRO missions such as those of India's first human spaceflight programme, Gaganyaan, and the Aditya-L1 solar research mission. \n",
    "In return, future ESA missions will receive similar support from ISRO's own tracking stations.\n",
    "\n",
    "For the first time on the lunar surface, a laser beam from NASA's Lunar Reconnaissance Orbiter was broadcast on 12 December 2023, and it was reflected back by a tiny NASA retroreflector on board the Vikram lander. The purpose of the experiment was to determine the retroreflector's surface location from the moon's orbit. The Chandrayaan-3 lander's Laser Retroreflector Array (LRA) instrument began acting as a location marker close to the lunar south pole. \n",
    "Through multinational cooperation, the LRA was housed on the Vikram lander. On a hemispherical support framework, it consists of eight corner-cube retroreflectors. \n",
    "This array enables any orbiting spacecraft equipped with appropriate instruments to use lasers ranging from different directions. \n",
    "The 20 gram passive optical instrument is intended to survive for several decades on the lunar surface.\"\"\""
   ]
  },
  {
   "cell_type": "markdown",
   "id": "3e682128",
   "metadata": {},
   "source": [
    "# Manual approach of splitting the text into chunks#"
   ]
  },
  {
   "cell_type": "code",
   "execution_count": 19,
   "id": "b17acfda",
   "metadata": {},
   "outputs": [
    {
     "data": {
      "text/plain": [
       "'On 22 July 2019, ISRO launched Chandrayaan-2 on board a Launch Vehicle Mark-3 (LVM3) launch vehicle '"
      ]
     },
     "execution_count": 19,
     "metadata": {},
     "output_type": "execute_result"
    }
   ],
   "source": [
    "# Say LLM token limit is 100, in that case we can do simple thing such as this\n",
    "text[0:100]"
   ]
  },
  {
   "cell_type": "code",
   "execution_count": 20,
   "id": "b6012b51",
   "metadata": {},
   "outputs": [
    {
     "data": {
      "text/plain": [
       "366"
      ]
     },
     "execution_count": 20,
     "metadata": {},
     "output_type": "execute_result"
    }
   ],
   "source": [
    "words = text.split(\" \")\n",
    "len(words)"
   ]
  },
  {
   "cell_type": "code",
   "execution_count": 21,
   "id": "18a4d4d8",
   "metadata": {},
   "outputs": [],
   "source": [
    "chunks = []\n",
    "\n",
    "s = \"\"\n",
    "for word in words:\n",
    "    s += word + \" \"\n",
    "    if len(s)>200:\n",
    "        chunks.append(s)\n",
    "        s = \"\"\n",
    "        \n",
    "chunks.append(s)"
   ]
  },
  {
   "cell_type": "code",
   "execution_count": 22,
   "id": "9023b9bf",
   "metadata": {},
   "outputs": [
    {
     "data": {
      "text/plain": [
       "['On 22 July 2019, ISRO launched Chandrayaan-2 on board a Launch Vehicle Mark-3 (LVM3) launch vehicle consisting of an orbiter, a lander and a rover. The lander was scheduled to touch down on the lunar surface ',\n",
       " 'on 6 September 2019 to deploy the Pragyan rover. \\nThe lander lost contact with mission control, deviated from its intended trajectory while attempting to land near the lunar south pole, and crashed.\\n\\nThe ',\n",
       " 'lunar south pole region holds particular interest for scientific exploration. Studies show large amounts of ice there. The ice could contain solid-state compounds that would normally melt under warmer ']"
      ]
     },
     "execution_count": 22,
     "metadata": {},
     "output_type": "execute_result"
    }
   ],
   "source": [
    "chunks[:3]"
   ]
  },
  {
   "cell_type": "markdown",
   "id": "84449799",
   "metadata": {},
   "source": [
    "Splitting data into chunks can be done in native python but it is a tidious process. Also if necessary, you may need to experiment with various delimiters in an iterative manner to ensure that each chunk does not exceed the token length limit of the respective LLM.\n",
    "\n",
    "Langchain provides a better way through text splitter classes."
   ]
  },
  {
   "cell_type": "markdown",
   "id": "cc30eaf8",
   "metadata": {},
   "source": [
    "# Using Text Splitter Classes from Langchain"
   ]
  },
  {
   "cell_type": "markdown",
   "id": "5d1643be",
   "metadata": {},
   "source": [
    "# CharacterTextSplitter"
   ]
  },
  {
   "cell_type": "code",
   "execution_count": 23,
   "id": "d37ca7e1",
   "metadata": {},
   "outputs": [],
   "source": [
    "from langchain.text_splitter import CharacterTextSplitter\n",
    "\n",
    "splitter = CharacterTextSplitter(\n",
    "    separator = \"\\n\",\n",
    "    chunk_size=200,\n",
    "    chunk_overlap=0\n",
    ")"
   ]
  },
  {
   "cell_type": "code",
   "execution_count": 24,
   "id": "3d24aa8d",
   "metadata": {},
   "outputs": [
    {
     "name": "stderr",
     "output_type": "stream",
     "text": [
      "Created a chunk of size 257, which is longer than the specified 200\n",
      "Created a chunk of size 321, which is longer than the specified 200\n",
      "Created a chunk of size 218, which is longer than the specified 200\n",
      "Created a chunk of size 458, which is longer than the specified 200\n"
     ]
    },
    {
     "data": {
      "text/plain": [
       "12"
      ]
     },
     "execution_count": 24,
     "metadata": {},
     "output_type": "execute_result"
    }
   ],
   "source": [
    "chunks = splitter.split_text(text)\n",
    "len(chunks)"
   ]
  },
  {
   "cell_type": "code",
   "execution_count": 25,
   "id": "347d8e0c",
   "metadata": {},
   "outputs": [
    {
     "name": "stdout",
     "output_type": "stream",
     "text": [
      "256\n",
      "148\n",
      "320\n",
      "168\n",
      "148\n",
      "194\n",
      "217\n",
      "94\n",
      "457\n",
      "163\n",
      "129\n",
      "103\n"
     ]
    }
   ],
   "source": [
    "for chunk in chunks:\n",
    "    print(len(chunk))"
   ]
  },
  {
   "cell_type": "markdown",
   "id": "4166c828",
   "metadata": {},
   "source": [
    "As you can see, all though we gave 200 as a chunk size since the split was based on \\n, it ended up creating chunks that are bigger than size 200.\n",
    "\n",
    "Another class from Langchain can be used to recursively split the text based on a list of separators. This class is RecursiveTextSplitter. "
   ]
  },
  {
   "cell_type": "markdown",
   "id": "b2e8d22d",
   "metadata": {},
   "source": [
    "# RecursiveTextSplitter"
   ]
  },
  {
   "cell_type": "code",
   "execution_count": 26,
   "id": "16ec7754",
   "metadata": {},
   "outputs": [
    {
     "data": {
      "text/plain": [
       "\"On 22 July 2019, ISRO launched Chandrayaan-2 on board a Launch Vehicle Mark-3 (LVM3) launch vehicle consisting of an orbiter, a lander and a rover. The lander was scheduled to touch down on the lunar surface on 6 September 2019 to deploy the Pragyan rover. \\nThe lander lost contact with mission control, deviated from its intended trajectory while attempting to land near the lunar south pole, and crashed.\\n\\nThe lunar south pole region holds particular interest for scientific exploration. Studies show large amounts of ice there. The ice could contain solid-state compounds that would normally melt under warmer conditions elsewhere on the Moon—compounds which could provide insight into lunar, Earth, and Solar System history. \\nMountains and craters create unpredictable lighting that protect the ice from melting, but they also make landing there a challenging undertaking for scientific probes. \\nFor future crewed missions and outposts, the ice could also be a source of oxygen, of drinking water as well as of fuel due to its hydrogen content.\\n\\nThe European Space Tracking network (ESTRACK), operated by the European Space Agency (ESA), and Deep Space Network operated by Jet Propulsion Laboratory (JPL) of NASA are supporting the mission. \\nUnder a new cross-support arrangement, ESA tracking support could be provided for upcoming ISRO missions such as those of India's first human spaceflight programme, Gaganyaan, and the Aditya-L1 solar research mission. \\nIn return, future ESA missions will receive similar support from ISRO's own tracking stations.\\n\\nFor the first time on the lunar surface, a laser beam from NASA's Lunar Reconnaissance Orbiter was broadcast on 12 December 2023, and it was reflected back by a tiny NASA retroreflector on board the Vikram lander. The purpose of the experiment was to determine the retroreflector's surface location from the moon's orbit. The Chandrayaan-3 lander's Laser Retroreflector Array (LRA) instrument began acting as a location marker close to the lunar south pole. \\nThrough multinational cooperation, the LRA was housed on the Vikram lander. On a hemispherical support framework, it consists of eight corner-cube retroreflectors. \\nThis array enables any orbiting spacecraft equipped with appropriate instruments to use lasers ranging from different directions. \\nThe 20 gram passive optical instrument is intended to survive for several decades on the lunar surface.\""
      ]
     },
     "execution_count": 26,
     "metadata": {},
     "output_type": "execute_result"
    }
   ],
   "source": [
    "text"
   ]
  },
  {
   "cell_type": "code",
   "execution_count": 27,
   "id": "5030bd03",
   "metadata": {},
   "outputs": [],
   "source": [
    "from langchain.text_splitter import RecursiveCharacterTextSplitter\n",
    "\n",
    "r_splitter = RecursiveCharacterTextSplitter(\n",
    "    separators = [\"\\n\\n\", \"\\n\", \" \"],  # List of separators based on requirement (defaults to [\"\\n\\n\", \"\\n\", \" \"])\n",
    "    chunk_size = 200,  # size of each chunk created\n",
    "    chunk_overlap  = 0,  # size of  overlap between chunks in order to maintain the context\n",
    "    length_function = len  # Function to calculate size, currently we are using \"len\" which denotes length of string however you can pass any token counter)\n",
    ")"
   ]
  },
  {
   "cell_type": "code",
   "execution_count": 28,
   "id": "b67d9b2a",
   "metadata": {},
   "outputs": [
    {
     "name": "stdout",
     "output_type": "stream",
     "text": [
      "199\n",
      "56\n",
      "148\n",
      "197\n",
      "122\n",
      "168\n",
      "148\n",
      "194\n",
      "199\n",
      "17\n",
      "94\n",
      "198\n",
      "199\n",
      "58\n",
      "163\n",
      "129\n",
      "103\n"
     ]
    }
   ],
   "source": [
    "chunks = r_splitter.split_text(text)\n",
    "\n",
    "for chunk in chunks:\n",
    "    print(len(chunk))"
   ]
  },
  {
   "cell_type": "code",
   "execution_count": 29,
   "id": "07330b13",
   "metadata": {},
   "outputs": [
    {
     "data": {
      "text/plain": [
       "'On 22 July 2019, ISRO launched Chandrayaan-2 on board a Launch Vehicle Mark-3 (LVM3) launch vehicle consisting of an orbiter, a lander and a rover. The lander was scheduled to touch down on the lunar surface on 6 September 2019 to deploy the Pragyan rover. \\nThe lander lost contact with mission control, deviated from its intended trajectory while attempting to land near the lunar south pole, and crashed.'"
      ]
     },
     "execution_count": 29,
     "metadata": {},
     "output_type": "execute_result"
    }
   ],
   "source": [
    "#Let's understand how exactly it formed these chunks\n",
    "first_split = text.split(\"\\n\\n\")[0]\n",
    "first_split"
   ]
  },
  {
   "cell_type": "code",
   "execution_count": 30,
   "id": "202038a3",
   "metadata": {},
   "outputs": [
    {
     "data": {
      "text/plain": [
       "406"
      ]
     },
     "execution_count": 30,
     "metadata": {},
     "output_type": "execute_result"
    }
   ],
   "source": [
    "len(first_split)"
   ]
  },
  {
   "cell_type": "markdown",
   "id": "a7523000",
   "metadata": {},
   "source": [
    "Recursive text splitter uses a list of separators, i.e. separators = [\"\\n\\n\", \"\\n\", \".\"]\n",
    "\n",
    "So now it will first split using \\n\\n and then if the resulting chunk size is greater than the chunk_size parameter which is 200 in our case, then it will use the next separator which is \\n"
   ]
  },
  {
   "cell_type": "code",
   "execution_count": 31,
   "id": "45f6fc2b",
   "metadata": {},
   "outputs": [
    {
     "data": {
      "text/plain": [
       "['On 22 July 2019, ISRO launched Chandrayaan-2 on board a Launch Vehicle Mark-3 (LVM3) launch vehicle consisting of an orbiter, a lander and a rover. The lander was scheduled to touch down on the lunar surface on 6 September 2019 to deploy the Pragyan rover. ',\n",
       " 'The lander lost contact with mission control, deviated from its intended trajectory while attempting to land near the lunar south pole, and crashed.']"
      ]
     },
     "execution_count": 31,
     "metadata": {},
     "output_type": "execute_result"
    }
   ],
   "source": [
    "second_split = first_split.split(\"\\n\")\n",
    "second_split"
   ]
  },
  {
   "cell_type": "code",
   "execution_count": 32,
   "id": "d3c13911",
   "metadata": {},
   "outputs": [
    {
     "name": "stdout",
     "output_type": "stream",
     "text": [
      "257\n",
      "148\n"
     ]
    }
   ],
   "source": [
    "for split in second_split:\n",
    "    print(len(split))"
   ]
  },
  {
   "cell_type": "markdown",
   "id": "52fc11c9",
   "metadata": {},
   "source": [
    "Third split exceeds chunk size 100. Now it will further try to split that using the third separator which is ' ' (space)"
   ]
  },
  {
   "cell_type": "code",
   "execution_count": 33,
   "id": "b1e119e8",
   "metadata": {},
   "outputs": [
    {
     "data": {
      "text/plain": [
       "'The lander lost contact with mission control, deviated from its intended trajectory while attempting to land near the lunar south pole, and crashed.'"
      ]
     },
     "execution_count": 33,
     "metadata": {},
     "output_type": "execute_result"
    }
   ],
   "source": [
    "second_split[1]"
   ]
  },
  {
   "cell_type": "markdown",
   "id": "6a6c7334",
   "metadata": {},
   "source": [
    "When you split this using space (i.e. second_split[1].split(\" \")), it will separate out each word and then it will merge those chunks such that their size is close to 100"
   ]
  },
  {
   "cell_type": "code",
   "execution_count": 34,
   "id": "710782d0",
   "metadata": {},
   "outputs": [
    {
     "name": "stdout",
     "output_type": "stream",
     "text": [
      "199\n",
      "56\n",
      "148\n",
      "197\n",
      "122\n",
      "168\n",
      "148\n",
      "194\n",
      "199\n",
      "17\n",
      "94\n",
      "198\n",
      "199\n",
      "58\n",
      "163\n",
      "129\n",
      "103\n"
     ]
    }
   ],
   "source": [
    "chunks = r_splitter.split_text(text)\n",
    "\n",
    "for chunk in chunks:\n",
    "    print(len(chunk))"
   ]
  },
  {
   "cell_type": "markdown",
   "id": "5664faf1",
   "metadata": {},
   "source": [
    "# FAISS (Semantic Search)\n",
    "Facebook AI Similarity Search"
   ]
  },
  {
   "cell_type": "code",
   "execution_count": 35,
   "id": "c9d2c9bb",
   "metadata": {},
   "outputs": [
    {
     "name": "stdout",
     "output_type": "stream",
     "text": [
      "Defaulting to user installation because normal site-packages is not writeable\n",
      "Requirement already satisfied: faiss-cpu in c:\\users\\yashvanth\\appdata\\roaming\\python\\python39\\site-packages (1.8.0)\n",
      "Requirement already satisfied: numpy in c:\\users\\yashvanth\\appdata\\roaming\\python\\python39\\site-packages (from faiss-cpu) (1.23.5)\n",
      "Defaulting to user installation because normal site-packages is not writeable\n",
      "Requirement already satisfied: sentence-transformers in c:\\users\\yashvanth\\appdata\\roaming\\python\\python39\\site-packages (2.7.0)\n",
      "Requirement already satisfied: torch>=1.11.0 in c:\\users\\yashvanth\\appdata\\roaming\\python\\python39\\site-packages (from sentence-transformers) (2.1.2+cu121)\n",
      "Requirement already satisfied: numpy in c:\\users\\yashvanth\\appdata\\roaming\\python\\python39\\site-packages (from sentence-transformers) (1.23.5)\n",
      "Requirement already satisfied: Pillow in c:\\program files\\arcgis\\pro\\bin\\python\\envs\\arcgispro-py3\\lib\\site-packages (from sentence-transformers) (9.1.0)\n",
      "Requirement already satisfied: scikit-learn in c:\\users\\yashvanth\\appdata\\roaming\\python\\python39\\site-packages (from sentence-transformers) (1.2.1)\n",
      "Requirement already satisfied: scipy in c:\\users\\yashvanth\\appdata\\roaming\\python\\python39\\site-packages (from sentence-transformers) (1.10.1)\n",
      "Requirement already satisfied: huggingface-hub>=0.15.1 in c:\\users\\yashvanth\\appdata\\roaming\\python\\python39\\site-packages (from sentence-transformers) (0.20.2)\n",
      "Requirement already satisfied: transformers<5.0.0,>=4.34.0 in c:\\users\\yashvanth\\appdata\\roaming\\python\\python39\\site-packages (from sentence-transformers) (4.36.2)\n",
      "Requirement already satisfied: tqdm in c:\\users\\yashvanth\\appdata\\roaming\\python\\python39\\site-packages (from sentence-transformers) (4.65.0)\n",
      "Requirement already satisfied: fsspec>=2023.5.0 in c:\\users\\yashvanth\\appdata\\roaming\\python\\python39\\site-packages (from huggingface-hub>=0.15.1->sentence-transformers) (2023.12.2)\n",
      "Requirement already satisfied: requests in c:\\users\\yashvanth\\appdata\\roaming\\python\\python39\\site-packages (from huggingface-hub>=0.15.1->sentence-transformers) (2.31.0)\n",
      "Requirement already satisfied: filelock in c:\\users\\yashvanth\\appdata\\roaming\\python\\python39\\site-packages (from huggingface-hub>=0.15.1->sentence-transformers) (3.13.1)\n",
      "Requirement already satisfied: packaging>=20.9 in c:\\users\\yashvanth\\appdata\\roaming\\python\\python39\\site-packages (from huggingface-hub>=0.15.1->sentence-transformers) (23.2)\n",
      "Requirement already satisfied: typing-extensions>=3.7.4.3 in c:\\users\\yashvanth\\appdata\\roaming\\python\\python39\\site-packages (from huggingface-hub>=0.15.1->sentence-transformers) (4.7.1)\n",
      "Requirement already satisfied: pyyaml>=5.1 in c:\\program files\\arcgis\\pro\\bin\\python\\envs\\arcgispro-py3\\lib\\site-packages (from huggingface-hub>=0.15.1->sentence-transformers) (6.0)\n",
      "Requirement already satisfied: jinja2 in c:\\program files\\arcgis\\pro\\bin\\python\\envs\\arcgispro-py3\\lib\\site-packages (from torch>=1.11.0->sentence-transformers) (3.0.3)\n",
      "Requirement already satisfied: sympy in c:\\program files\\arcgis\\pro\\bin\\python\\envs\\arcgispro-py3\\lib\\site-packages\\sympy-1.9-py3.9.egg (from torch>=1.11.0->sentence-transformers) (1.9)\n",
      "Requirement already satisfied: networkx in c:\\users\\yashvanth\\appdata\\roaming\\python\\python39\\site-packages (from torch>=1.11.0->sentence-transformers) (3.1)\n",
      "Requirement already satisfied: colorama in c:\\users\\yashvanth\\appdata\\roaming\\python\\python39\\site-packages (from tqdm->sentence-transformers) (0.4.6)\n",
      "Requirement already satisfied: tokenizers<0.19,>=0.14 in c:\\users\\yashvanth\\appdata\\roaming\\python\\python39\\site-packages (from transformers<5.0.0,>=4.34.0->sentence-transformers) (0.15.0)\n",
      "Requirement already satisfied: safetensors>=0.3.1 in c:\\users\\yashvanth\\appdata\\roaming\\python\\python39\\site-packages (from transformers<5.0.0,>=4.34.0->sentence-transformers) (0.4.1)\n",
      "Requirement already satisfied: regex!=2019.12.17 in c:\\program files\\arcgis\\pro\\bin\\python\\envs\\arcgispro-py3\\lib\\site-packages (from transformers<5.0.0,>=4.34.0->sentence-transformers) (2022.3.15)\n",
      "Requirement already satisfied: MarkupSafe>=2.0 in c:\\users\\yashvanth\\appdata\\roaming\\python\\python39\\site-packages (from jinja2->torch>=1.11.0->sentence-transformers) (2.1.2)\n",
      "Requirement already satisfied: urllib3<3,>=1.21.1 in c:\\users\\yashvanth\\appdata\\roaming\\python\\python39\\site-packages (from requests->huggingface-hub>=0.15.1->sentence-transformers) (2.2.1)\n",
      "Requirement already satisfied: idna<4,>=2.5 in c:\\users\\yashvanth\\appdata\\roaming\\python\\python39\\site-packages (from requests->huggingface-hub>=0.15.1->sentence-transformers) (3.7)\n",
      "Requirement already satisfied: certifi>=2017.4.17 in c:\\users\\yashvanth\\appdata\\roaming\\python\\python39\\site-packages (from requests->huggingface-hub>=0.15.1->sentence-transformers) (2024.2.2)\n",
      "Requirement already satisfied: charset-normalizer<4,>=2 in c:\\users\\yashvanth\\appdata\\roaming\\python\\python39\\site-packages (from requests->huggingface-hub>=0.15.1->sentence-transformers) (3.3.2)\n",
      "Requirement already satisfied: joblib>=1.1.1 in c:\\users\\yashvanth\\appdata\\roaming\\python\\python39\\site-packages (from scikit-learn->sentence-transformers) (1.2.0)\n",
      "Requirement already satisfied: threadpoolctl>=2.0.0 in c:\\users\\yashvanth\\appdata\\roaming\\python\\python39\\site-packages (from scikit-learn->sentence-transformers) (3.1.0)\n",
      "Requirement already satisfied: mpmath>=0.19 in c:\\program files\\arcgis\\pro\\bin\\python\\envs\\arcgispro-py3\\lib\\site-packages (from sympy->torch>=1.11.0->sentence-transformers) (1.2.1)\n"
     ]
    }
   ],
   "source": [
    "!pip install faiss-cpu\n",
    "!pip install sentence-transformers"
   ]
  },
  {
   "cell_type": "code",
   "execution_count": 36,
   "id": "33e45ccc",
   "metadata": {},
   "outputs": [],
   "source": [
    "import pandas as pd\n",
    "pd.set_option('display.max_colwidth', 100)"
   ]
  },
  {
   "cell_type": "code",
   "execution_count": null,
   "id": "7a18eca1",
   "metadata": {},
   "outputs": [
    {
     "data": {
      "text/plain": [
       "(8, 2)"
      ]
     },
     "execution_count": 37,
     "metadata": {},
     "output_type": "execute_result"
    }
   ],
   "source": [
    "df = pd.read_csv(\"Datasets\\sample_text.csv\")\n",
    "df.shape"
   ]
  },
  {
   "cell_type": "code",
   "execution_count": 38,
   "id": "7865a9a6",
   "metadata": {},
   "outputs": [
    {
     "data": {
      "text/html": [
       "<div>\n",
       "<style scoped>\n",
       "    .dataframe tbody tr th:only-of-type {\n",
       "        vertical-align: middle;\n",
       "    }\n",
       "\n",
       "    .dataframe tbody tr th {\n",
       "        vertical-align: top;\n",
       "    }\n",
       "\n",
       "    .dataframe thead th {\n",
       "        text-align: right;\n",
       "    }\n",
       "</style>\n",
       "<table border=\"1\" class=\"dataframe\">\n",
       "  <thead>\n",
       "    <tr style=\"text-align: right;\">\n",
       "      <th></th>\n",
       "      <th>text</th>\n",
       "      <th>category</th>\n",
       "    </tr>\n",
       "  </thead>\n",
       "  <tbody>\n",
       "    <tr>\n",
       "      <th>0</th>\n",
       "      <td>Meditation and yoga can improve mental health</td>\n",
       "      <td>Health</td>\n",
       "    </tr>\n",
       "    <tr>\n",
       "      <th>1</th>\n",
       "      <td>Fruits, whole grains and vegetables helps control blood pressure</td>\n",
       "      <td>Health</td>\n",
       "    </tr>\n",
       "    <tr>\n",
       "      <th>2</th>\n",
       "      <td>These are the latest fashion trends for this week</td>\n",
       "      <td>Fashion</td>\n",
       "    </tr>\n",
       "    <tr>\n",
       "      <th>3</th>\n",
       "      <td>Vibrant color jeans for male are becoming a trend</td>\n",
       "      <td>Fashion</td>\n",
       "    </tr>\n",
       "    <tr>\n",
       "      <th>4</th>\n",
       "      <td>The concert starts at 7 PM tonight</td>\n",
       "      <td>Event</td>\n",
       "    </tr>\n",
       "    <tr>\n",
       "      <th>5</th>\n",
       "      <td>Navaratri dandiya program at Expo center in Mumbai this october</td>\n",
       "      <td>Event</td>\n",
       "    </tr>\n",
       "    <tr>\n",
       "      <th>6</th>\n",
       "      <td>Exciting vacation destinations for your next trip</td>\n",
       "      <td>Travel</td>\n",
       "    </tr>\n",
       "    <tr>\n",
       "      <th>7</th>\n",
       "      <td>Maldives and Srilanka are gaining popularity in terms of low budget vacation places</td>\n",
       "      <td>Travel</td>\n",
       "    </tr>\n",
       "  </tbody>\n",
       "</table>\n",
       "</div>"
      ],
      "text/plain": [
       "                                                                                  text  \\\n",
       "0                                        Meditation and yoga can improve mental health   \n",
       "1                     Fruits, whole grains and vegetables helps control blood pressure   \n",
       "2                                    These are the latest fashion trends for this week   \n",
       "3                                    Vibrant color jeans for male are becoming a trend   \n",
       "4                                                   The concert starts at 7 PM tonight   \n",
       "5                      Navaratri dandiya program at Expo center in Mumbai this october   \n",
       "6                                    Exciting vacation destinations for your next trip   \n",
       "7  Maldives and Srilanka are gaining popularity in terms of low budget vacation places   \n",
       "\n",
       "  category  \n",
       "0   Health  \n",
       "1   Health  \n",
       "2  Fashion  \n",
       "3  Fashion  \n",
       "4    Event  \n",
       "5    Event  \n",
       "6   Travel  \n",
       "7   Travel  "
      ]
     },
     "execution_count": 38,
     "metadata": {},
     "output_type": "execute_result"
    }
   ],
   "source": [
    "df"
   ]
  },
  {
   "cell_type": "markdown",
   "id": "8744248a",
   "metadata": {},
   "source": [
    "# Step 1 : Create source embeddings for the text column"
   ]
  },
  {
   "cell_type": "code",
   "execution_count": 39,
   "id": "455b8566",
   "metadata": {},
   "outputs": [],
   "source": [
    "from sentence_transformers import SentenceTransformer"
   ]
  },
  {
   "cell_type": "code",
   "execution_count": 40,
   "id": "c31a793a",
   "metadata": {},
   "outputs": [],
   "source": [
    "encoder = SentenceTransformer(\"all-mpnet-base-v2\")\n",
    "vectors = encoder.encode(df.text)"
   ]
  },
  {
   "cell_type": "code",
   "execution_count": 41,
   "id": "90135522",
   "metadata": {},
   "outputs": [
    {
     "data": {
      "text/plain": [
       "(8, 768)"
      ]
     },
     "execution_count": 41,
     "metadata": {},
     "output_type": "execute_result"
    }
   ],
   "source": [
    "vectors.shape"
   ]
  },
  {
   "cell_type": "code",
   "execution_count": 42,
   "id": "19a4a807",
   "metadata": {},
   "outputs": [
    {
     "data": {
      "text/plain": [
       "768"
      ]
     },
     "execution_count": 42,
     "metadata": {},
     "output_type": "execute_result"
    }
   ],
   "source": [
    "dim = vectors.shape[1]\n",
    "dim"
   ]
  },
  {
   "cell_type": "markdown",
   "id": "81a37233",
   "metadata": {},
   "source": [
    "# Step 2 : Build a FAISS Index for vectors"
   ]
  },
  {
   "cell_type": "code",
   "execution_count": 43,
   "id": "33f27e04",
   "metadata": {},
   "outputs": [],
   "source": [
    "import faiss\n",
    "index = faiss.IndexFlatL2(dim)"
   ]
  },
  {
   "cell_type": "markdown",
   "id": "08243db9",
   "metadata": {},
   "source": [
    "# Step 3 : Normalize the source vectors (as we are using L2 distance to measure similarity) and add to the index"
   ]
  },
  {
   "cell_type": "code",
   "execution_count": 44,
   "id": "094a1708",
   "metadata": {},
   "outputs": [],
   "source": [
    "index.add(vectors)"
   ]
  },
  {
   "cell_type": "code",
   "execution_count": 45,
   "id": "a6c431aa",
   "metadata": {},
   "outputs": [
    {
     "data": {
      "text/plain": [
       "<faiss.swigfaiss_avx2.IndexFlatL2; proxy of <Swig Object of type 'faiss::IndexFlatL2 *' at 0x000002C8141EF7E0> >"
      ]
     },
     "execution_count": 45,
     "metadata": {},
     "output_type": "execute_result"
    }
   ],
   "source": [
    "index"
   ]
  },
  {
   "cell_type": "markdown",
   "id": "ddcacc2a",
   "metadata": {},
   "source": [
    "# Step 4 : Encode search text using same encorder and normalize the output vector"
   ]
  },
  {
   "cell_type": "code",
   "execution_count": 46,
   "id": "714737ab",
   "metadata": {},
   "outputs": [
    {
     "data": {
      "text/plain": [
       "(768,)"
      ]
     },
     "execution_count": 46,
     "metadata": {},
     "output_type": "execute_result"
    }
   ],
   "source": [
    "#search_query = \"I want to buy a laptop\"\n",
    "#search_query = \"looking for adventurous places to visit during the holidays\"\n",
    "search_query = \"An apple a day keeps the doctor away\"\n",
    "vec = encoder.encode(search_query)\n",
    "vec.shape"
   ]
  },
  {
   "cell_type": "code",
   "execution_count": 47,
   "id": "1549ff8e",
   "metadata": {},
   "outputs": [
    {
     "data": {
      "text/plain": [
       "(1, 768)"
      ]
     },
     "execution_count": 47,
     "metadata": {},
     "output_type": "execute_result"
    }
   ],
   "source": [
    "import numpy as np\n",
    "svec = np.array(vec).reshape(1,-1)\n",
    "svec.shape"
   ]
  },
  {
   "cell_type": "code",
   "execution_count": 48,
   "id": "aa0d4f1e",
   "metadata": {},
   "outputs": [
    {
     "data": {
      "text/plain": [
       "array([[ 1.77042987e-02,  7.70549327e-02, -1.25192860e-02,\n",
       "        -1.39330281e-03,  5.92104625e-03, -1.42679466e-02,\n",
       "        -4.72583883e-02,  3.91951529e-03,  4.41600755e-02,\n",
       "         3.09807751e-02,  9.15983319e-02,  2.02603173e-02,\n",
       "        -2.16004848e-02,  1.33208251e-02, -4.14275751e-02,\n",
       "         4.16395329e-02,  4.37019058e-02,  6.06421428e-03,\n",
       "         2.21781358e-02, -1.94715448e-02, -3.44190598e-02,\n",
       "         3.79219651e-02,  5.27903205e-03,  2.22011227e-02,\n",
       "        -1.11636510e-02, -2.53351014e-02,  7.79388323e-02,\n",
       "         3.47348116e-02,  1.20056737e-02, -6.52654245e-02,\n",
       "        -4.83940803e-02, -3.03445589e-02, -6.99562803e-02,\n",
       "        -2.53461506e-02,  1.78119126e-06,  1.50222108e-02,\n",
       "         2.15191785e-02,  2.21124627e-02, -8.38034824e-02,\n",
       "         3.70961474e-03, -2.21118201e-02, -8.53062198e-02,\n",
       "         6.44917018e-04,  1.62597895e-02, -1.88165400e-02,\n",
       "         3.99217904e-02, -3.13138999e-02,  2.47449577e-02,\n",
       "        -7.98757188e-03,  6.11144528e-02, -1.47846481e-02,\n",
       "         4.10300709e-05,  1.20446468e-02,  1.73997171e-02,\n",
       "        -1.23808160e-02,  2.38852128e-02, -9.83121339e-03,\n",
       "         1.75077096e-02,  3.92328911e-02,  1.69029422e-02,\n",
       "        -1.22949481e-02, -1.56858712e-02,  1.15028652e-03,\n",
       "         2.66385241e-03, -3.65189463e-02,  3.99180874e-02,\n",
       "         2.32771747e-02, -2.65943017e-02,  3.42915393e-03,\n",
       "        -2.59093028e-02,  1.90303251e-02,  4.13046889e-02,\n",
       "         3.06410855e-03,  2.41178591e-02, -1.84675176e-02,\n",
       "        -3.48378867e-02,  1.07847983e-02,  1.52778281e-02,\n",
       "        -5.45445904e-02,  2.04391982e-02,  8.67332965e-02,\n",
       "        -1.11102744e-03,  2.58432217e-02,  4.41237874e-02,\n",
       "         2.52174251e-02, -1.14586009e-02,  2.93990057e-02,\n",
       "        -6.71625743e-03,  3.20293754e-02, -3.14533710e-02,\n",
       "        -4.67179716e-03, -4.99908291e-02,  6.74207360e-02,\n",
       "         9.90208611e-03,  4.42092940e-02, -2.79619899e-02,\n",
       "        -1.69542676e-03,  4.54507619e-02,  2.82929223e-02,\n",
       "        -1.02378756e-01, -7.01533780e-02,  2.85664527e-03,\n",
       "        -4.89341579e-02,  1.26282591e-02, -2.31865346e-02,\n",
       "        -7.66440481e-02, -7.69929960e-02,  5.50140478e-02,\n",
       "        -2.00010911e-02,  4.48806062e-02, -1.38112633e-02,\n",
       "         2.28754599e-02,  1.16892690e-02,  2.85230074e-02,\n",
       "         1.68069955e-02, -1.49096241e-02, -2.71183699e-02,\n",
       "        -3.71040665e-02, -3.76764312e-02, -6.29142718e-03,\n",
       "         5.77281835e-03,  3.10746860e-02, -1.14387590e-02,\n",
       "        -2.62952615e-02,  4.68201116e-02,  6.30384088e-02,\n",
       "        -2.33466532e-02,  3.40658724e-02, -2.16928050e-02,\n",
       "        -1.45928981e-02, -3.74503732e-02, -9.98722762e-03,\n",
       "         3.69233713e-02,  2.08494887e-02,  1.27606718e-02,\n",
       "         2.24809274e-02,  1.36928167e-03,  1.40739912e-02,\n",
       "         1.49779869e-02, -3.82495997e-03, -4.61129770e-02,\n",
       "         6.86566457e-02,  4.46552457e-03,  1.96978766e-02,\n",
       "        -4.78523374e-02, -1.91655532e-02,  6.01812713e-02,\n",
       "        -5.46851344e-02,  8.61412752e-03,  3.69113460e-02,\n",
       "        -1.29821002e-02, -2.81859506e-02,  1.18905343e-02,\n",
       "         4.10938486e-02,  2.36807968e-02,  3.68572958e-02,\n",
       "         1.49377808e-02, -2.81564090e-02,  1.58005394e-02,\n",
       "         4.92351409e-03,  9.92693380e-03, -4.22846712e-02,\n",
       "         2.90991720e-02, -9.30022355e-03, -7.47914752e-03,\n",
       "         2.67240498e-03,  4.99166548e-02,  1.72424074e-02,\n",
       "        -3.29363458e-02,  1.92749128e-02, -2.67218761e-02,\n",
       "         5.18920757e-02, -2.72231642e-02,  1.35032199e-02,\n",
       "         1.65663324e-02,  3.20216874e-03, -7.66791496e-03,\n",
       "         3.15008871e-02, -3.39304209e-02, -1.11432672e-01,\n",
       "        -1.52340895e-02,  1.83093771e-02, -1.48810558e-02,\n",
       "        -2.45523434e-02, -6.23848066e-02,  7.74267688e-03,\n",
       "        -3.31748612e-02,  4.10777982e-03, -2.33621914e-02,\n",
       "         2.66785212e-02, -9.28303134e-03, -1.72345433e-02,\n",
       "        -1.56825554e-04, -4.94699217e-02, -7.86569621e-03,\n",
       "        -4.48773429e-03,  3.06241792e-02, -1.72619335e-03,\n",
       "         3.17307934e-02, -3.26492563e-02, -1.62336808e-02,\n",
       "        -2.29119752e-02, -2.16919649e-02, -5.12295254e-02,\n",
       "         1.37390345e-02,  2.33488344e-03, -1.84096415e-02,\n",
       "        -2.03282349e-02,  9.58097652e-02, -2.69552842e-02,\n",
       "         4.37099533e-03, -4.56885956e-02,  7.02466369e-02,\n",
       "         4.42987271e-02, -1.81165412e-02,  1.50631703e-02,\n",
       "         7.02514453e-03, -6.33088173e-03,  9.39178560e-03,\n",
       "         6.90759420e-02, -6.35945285e-03, -1.25531689e-04,\n",
       "         4.23996262e-02,  7.52259092e-03, -7.49105588e-02,\n",
       "        -3.13936993e-02,  3.58664244e-02, -2.77308151e-02,\n",
       "        -1.27143953e-02,  3.44329476e-02, -2.85432604e-03,\n",
       "         4.34219167e-02, -3.23413918e-03, -3.30426395e-02,\n",
       "         7.31801093e-02,  6.14795089e-03,  1.50659755e-02,\n",
       "         2.24760100e-02, -4.69837785e-02, -2.78410502e-04,\n",
       "        -2.61966698e-02,  1.54892867e-02, -7.47978454e-03,\n",
       "        -4.01991745e-03, -6.62032366e-02, -1.97538733e-02,\n",
       "         6.11083396e-02,  1.36870630e-02, -1.86564550e-02,\n",
       "         4.71389480e-02, -2.40928363e-02, -4.55005141e-03,\n",
       "        -5.83697446e-02, -1.74101274e-02, -2.89055463e-02,\n",
       "        -1.09214745e-02, -2.27586795e-02, -4.75119688e-02,\n",
       "        -2.80758785e-03,  4.97594923e-02, -7.80055067e-03,\n",
       "         1.88322999e-02, -3.31196524e-02, -1.34029621e-02,\n",
       "         4.35079411e-02, -3.73876430e-02, -2.07784995e-02,\n",
       "        -4.99205217e-02, -4.06319797e-02, -9.95768141e-03,\n",
       "        -1.73569206e-04,  5.99831641e-02,  3.41078453e-02,\n",
       "         2.67406553e-02, -5.92351891e-03,  3.56908934e-03,\n",
       "        -3.33320685e-02, -7.81038404e-03,  1.81895006e-03,\n",
       "        -5.20740040e-02, -6.43569091e-03, -4.68544960e-02,\n",
       "         1.68004874e-02, -4.64554690e-03, -2.96372478e-03,\n",
       "        -3.14566456e-02,  1.04855122e-02,  3.41700055e-02,\n",
       "         4.75547798e-02, -1.05821773e-01, -1.05015934e-02,\n",
       "        -7.50371197e-04, -1.95634179e-02,  1.06892101e-01,\n",
       "        -3.63490283e-02, -2.80811898e-02,  4.36977367e-04,\n",
       "         7.21486136e-02, -2.57351901e-02, -2.39068195e-02,\n",
       "        -1.30093116e-02,  1.38987158e-03,  2.31232438e-02,\n",
       "         3.10506858e-03,  2.94047054e-02,  3.51567678e-02,\n",
       "        -2.12393608e-02, -7.10934475e-02, -5.19090742e-02,\n",
       "         3.81604210e-02,  2.04376876e-02,  3.11364774e-02,\n",
       "         3.52010094e-02,  4.46857512e-02, -2.89995391e-02,\n",
       "        -1.15384413e-02, -1.03574963e-02, -1.39666861e-02,\n",
       "         4.46387893e-03,  2.84840073e-02,  1.00402450e-02,\n",
       "        -9.79485083e-03,  4.10220772e-02, -3.25944312e-02,\n",
       "         4.18453366e-02, -1.86965521e-02,  8.82650446e-03,\n",
       "         2.78538652e-03, -6.95996359e-03, -5.01361936e-02,\n",
       "         3.16423667e-03, -7.05811894e-03,  3.35493796e-02,\n",
       "        -1.03758015e-02,  3.66795622e-02, -7.22072423e-02,\n",
       "        -3.00804526e-02, -1.32066943e-02, -2.44204830e-02,\n",
       "         4.60904697e-03, -8.59031745e-04, -5.69584668e-02,\n",
       "        -2.45984085e-02, -1.15589108e-02, -6.32587075e-02,\n",
       "        -3.23189907e-02, -1.75238568e-02,  4.72402014e-02,\n",
       "        -3.60678546e-02,  6.88962825e-03, -3.63489683e-03,\n",
       "         2.34131198e-02,  1.84405483e-02, -1.18062599e-02,\n",
       "         1.04889749e-02, -1.78404488e-02, -1.11427410e-02,\n",
       "         2.83519272e-02, -2.11330540e-02, -1.03829345e-02,\n",
       "         4.89286073e-02,  3.43783498e-02, -7.35132443e-03,\n",
       "        -9.37496684e-03,  1.72250066e-02, -2.65193488e-02,\n",
       "        -9.69284866e-03,  1.13077946e-02, -2.76285652e-02,\n",
       "        -1.72183998e-02,  8.23418237e-03,  4.05783840e-02,\n",
       "        -9.75788012e-02, -3.92709486e-03, -2.75817653e-03,\n",
       "        -1.14231966e-02,  7.83064589e-02, -2.49121134e-04,\n",
       "        -2.54357457e-02, -3.16074514e-03,  4.89834510e-02,\n",
       "        -5.58339134e-02, -6.35767058e-02, -4.91981918e-04,\n",
       "        -4.91768643e-02, -1.67842526e-02,  4.13965397e-02,\n",
       "        -3.30455601e-02,  1.38436938e-02, -1.64264627e-02,\n",
       "         7.14381272e-03,  2.49041095e-02, -6.33741170e-02,\n",
       "        -2.44058035e-02, -4.65059057e-02, -1.03019476e-02,\n",
       "        -3.35503817e-02, -3.52621451e-02, -8.47020373e-03,\n",
       "         3.04658283e-02,  8.86730850e-03,  1.33269848e-02,\n",
       "         4.48203739e-03,  2.99554821e-02,  8.19267631e-02,\n",
       "        -3.95539217e-03,  9.45921689e-02,  8.72817542e-03,\n",
       "         3.24310809e-02, -3.16743627e-02,  1.16933957e-02,\n",
       "         1.12841651e-03,  2.57855337e-02, -2.10084468e-02,\n",
       "         5.40793762e-02, -6.88324310e-03,  2.89140865e-02,\n",
       "        -1.23310005e-02,  4.81783114e-02, -5.50766774e-02,\n",
       "        -3.02453991e-02,  4.10858952e-02,  8.15281458e-03,\n",
       "         3.08418069e-02, -1.89406667e-02, -2.83367280e-02,\n",
       "         3.00642126e-03, -1.91496238e-02, -4.56202142e-02,\n",
       "         5.54051204e-03,  4.56625670e-02,  2.12338530e-02,\n",
       "         2.58581396e-02,  2.72224229e-02, -4.72947396e-02,\n",
       "         2.54319422e-02,  9.14958715e-02, -1.27846068e-02,\n",
       "        -2.82118935e-02, -1.85665265e-02, -6.34609386e-02,\n",
       "        -1.24215137e-03,  4.58950829e-03,  2.09341720e-02,\n",
       "        -3.39578502e-02, -1.58184476e-03,  1.13110095e-02,\n",
       "         3.60795520e-02,  4.10229564e-02, -6.95806521e-04,\n",
       "         9.64434352e-03,  5.45100030e-03,  2.47777831e-02,\n",
       "         3.14189009e-02,  4.24551517e-02, -4.32845112e-03,\n",
       "         1.65218543e-02, -6.42193668e-03,  4.01510932e-02,\n",
       "        -8.30299873e-03,  4.99247350e-02,  2.50875391e-02,\n",
       "         4.40018252e-02, -1.06262024e-02, -1.31669790e-02,\n",
       "        -1.13446796e-02,  3.29534784e-02,  1.44534232e-02,\n",
       "         3.70858237e-02, -1.25882830e-02, -1.22827813e-02,\n",
       "         2.79852971e-02, -1.91051736e-02, -2.22000089e-02,\n",
       "         5.70659600e-02,  3.65274064e-02,  1.37893658e-03,\n",
       "        -3.95369045e-02,  3.09180059e-02,  9.58146248e-03,\n",
       "         5.82400151e-03,  1.71523280e-02, -2.32070568e-03,\n",
       "         5.95996827e-02,  1.35232909e-02,  1.19381482e-02,\n",
       "         3.98603361e-03, -3.24207209e-02,  1.37516372e-02,\n",
       "        -2.26116870e-02, -3.99373658e-02,  1.39887854e-02,\n",
       "         3.50831039e-02,  4.55710106e-03,  7.63798272e-03,\n",
       "        -2.95870043e-02, -6.57909960e-02, -6.79302141e-02,\n",
       "         3.20323035e-02,  3.85105461e-02,  5.82168764e-03,\n",
       "        -1.88911259e-02,  1.18346605e-02,  4.90554702e-03,\n",
       "        -8.22085515e-03,  1.69234499e-02, -2.35954672e-02,\n",
       "         7.35041350e-02,  3.83921363e-03, -1.07085509e-02,\n",
       "        -6.61840057e-03,  1.23729594e-02, -8.72931629e-02,\n",
       "        -2.68257782e-02, -1.08495709e-02,  5.48514761e-02,\n",
       "        -2.83272807e-02, -5.24326228e-02,  3.24678607e-02,\n",
       "         1.16664181e-02, -1.64669938e-03, -3.88942100e-02,\n",
       "         3.21133584e-02,  4.22592536e-02,  4.45562899e-02,\n",
       "         6.59731701e-02, -1.79621372e-02, -8.64054076e-03,\n",
       "        -3.41466777e-02,  3.62287015e-02, -9.33597162e-02,\n",
       "        -7.45403627e-03, -2.23161746e-02,  1.70007888e-02,\n",
       "        -5.21106645e-02,  7.26141594e-03, -1.40623618e-02,\n",
       "         1.06721763e-02,  1.64048409e-03,  2.02366468e-02,\n",
       "        -3.70570384e-02,  6.65061700e-04,  3.79714090e-03,\n",
       "        -5.62507100e-02,  6.71389401e-02, -5.47598377e-02,\n",
       "        -4.35777046e-02, -4.30209702e-03,  4.18701060e-02,\n",
       "        -6.37537688e-02,  1.44372869e-04,  6.83685690e-02,\n",
       "        -1.09456494e-01, -4.45324108e-02, -2.34451480e-02,\n",
       "        -5.18653968e-33, -2.04390343e-02,  5.15205227e-02,\n",
       "        -7.93551002e-03, -3.31859253e-02,  6.18983097e-02,\n",
       "         1.17699817e-01, -1.88153833e-02, -5.11836298e-02,\n",
       "        -2.94562187e-02,  5.69576435e-02, -1.45411361e-02,\n",
       "        -8.86352919e-03,  1.34674478e-02,  2.74255350e-02,\n",
       "         3.65864933e-02, -1.78105012e-02,  1.92146599e-02,\n",
       "         4.57736515e-02, -2.92458311e-02,  4.31371853e-02,\n",
       "        -9.75704119e-02,  9.00557917e-03, -6.33826256e-02,\n",
       "         2.45661400e-02,  2.43832488e-02, -1.04732737e-02,\n",
       "         4.15967256e-02, -1.60385873e-02,  1.42829232e-02,\n",
       "        -2.73557827e-02, -8.56378290e-04,  3.86138563e-03,\n",
       "         2.93082222e-02,  2.12055463e-02,  6.85712555e-03,\n",
       "        -5.72852371e-03,  1.99484061e-02,  1.47556225e-02,\n",
       "        -1.34724258e-02, -4.78622615e-02, -6.34546727e-02,\n",
       "        -1.96268409e-02,  1.32541796e-02, -8.90152249e-03,\n",
       "        -2.17043217e-02,  1.92722958e-02,  3.95699404e-02,\n",
       "         8.35893210e-03, -5.89719713e-02, -1.06946845e-02,\n",
       "         1.85068708e-03,  1.75862089e-02,  3.42222564e-02,\n",
       "        -4.38409410e-02, -6.01134785e-02,  5.53266704e-02,\n",
       "        -6.70442125e-03,  1.01960532e-01,  2.00392827e-02,\n",
       "         1.27288541e-02,  3.06910537e-02, -1.88643038e-02,\n",
       "        -1.90549083e-02, -2.94235237e-02, -1.47050312e-02,\n",
       "         5.15942043e-03,  7.75680412e-03, -6.55556619e-02,\n",
       "        -5.89430444e-02,  1.67306082e-03, -5.99135384e-02,\n",
       "        -7.39581510e-02,  6.44568726e-02, -3.72070260e-02,\n",
       "         3.78960557e-02, -4.82129008e-02, -6.97399080e-02,\n",
       "         3.34072597e-02, -1.27640456e-01, -5.55027230e-03,\n",
       "        -1.48495454e-02,  6.02521515e-03, -1.58148911e-02,\n",
       "         5.41165005e-03,  2.99759042e-02,  1.06150648e-02,\n",
       "         2.69443896e-02,  2.36499645e-02,  2.20827688e-03,\n",
       "        -2.02189013e-02, -7.71798333e-03,  5.64291887e-02,\n",
       "        -9.30678472e-03,  4.74143494e-03,  2.91235037e-02,\n",
       "        -2.82313041e-02,  6.35225922e-02,  2.33839010e-03,\n",
       "        -5.37544228e-02, -1.58984810e-02, -5.98645620e-02,\n",
       "        -8.88763461e-03, -2.44070515e-02,  3.48599348e-03,\n",
       "         6.37186244e-02,  3.64635251e-02, -1.85140278e-02,\n",
       "        -3.38129401e-02, -2.64593828e-02, -2.83879321e-02,\n",
       "        -2.40953807e-02, -1.30287418e-02, -7.80897448e-03,\n",
       "         1.15132742e-02,  1.66410133e-02,  4.74090278e-02,\n",
       "         3.50563563e-02,  6.98583201e-02,  5.55173494e-02,\n",
       "        -2.40682382e-02, -5.49385101e-02, -2.99198814e-02,\n",
       "         6.90906793e-02, -1.33256102e-02, -1.08585740e-02,\n",
       "        -4.75041643e-02,  1.71523672e-02,  6.03122683e-03,\n",
       "        -6.07148223e-02, -7.87525401e-02,  1.86352730e-02,\n",
       "        -4.96664569e-02,  2.36968532e-07, -1.93738881e-02,\n",
       "         2.65154876e-02,  1.66478194e-02, -7.63490796e-02,\n",
       "        -7.33084278e-03,  6.88619539e-03, -1.82033498e-02,\n",
       "        -1.78972445e-02, -3.59311998e-02, -3.44333686e-02,\n",
       "         2.52452176e-02, -7.09596742e-03, -1.97668113e-02,\n",
       "         1.55421831e-02,  6.24986403e-02,  9.66364890e-02,\n",
       "        -1.05990171e-01, -7.03914370e-03,  2.16772850e-03,\n",
       "        -4.57741097e-02, -1.26626831e-03,  2.25424916e-02,\n",
       "        -2.18679979e-02, -3.33696268e-02,  1.42014874e-02,\n",
       "        -6.77180886e-02, -8.05074256e-03,  3.81871425e-02,\n",
       "         6.26838878e-02, -2.71658450e-02, -4.29111626e-03,\n",
       "         5.91295445e-03,  1.92033071e-02, -3.22129652e-02,\n",
       "        -2.86985133e-02, -4.65017781e-02, -1.94394812e-02,\n",
       "         7.86957517e-02, -7.99822509e-02,  8.30621570e-02,\n",
       "        -2.12410446e-02,  5.25333211e-02,  1.44912116e-03,\n",
       "         2.54518874e-02,  7.02933455e-03, -4.06929664e-02,\n",
       "        -6.36406168e-02,  3.99542041e-02,  8.81826431e-02,\n",
       "         3.34152430e-02,  2.17053965e-02,  5.82620949e-02,\n",
       "        -1.85556505e-02,  9.55995359e-03,  2.18548067e-03,\n",
       "         2.84273531e-02,  2.62638070e-02, -5.21001816e-02,\n",
       "        -5.15836431e-03,  6.09169016e-03,  3.32376696e-02,\n",
       "        -3.09610516e-02,  5.04566431e-02,  1.07286377e-02,\n",
       "        -4.37671207e-02, -2.14030873e-03, -2.81434115e-02,\n",
       "         1.45433183e-34,  1.40960449e-02, -2.15030238e-02,\n",
       "         9.59277060e-03,  2.31242049e-02, -6.93963375e-04,\n",
       "         4.21578018e-03,  6.26009628e-02,  6.47297176e-03,\n",
       "         3.18142474e-02,  2.95143686e-02, -4.89484519e-02]], dtype=float32)"
      ]
     },
     "execution_count": 48,
     "metadata": {},
     "output_type": "execute_result"
    }
   ],
   "source": [
    "svec"
   ]
  },
  {
   "cell_type": "code",
   "execution_count": 49,
   "id": "cda13b08",
   "metadata": {},
   "outputs": [],
   "source": [
    "faiss.normalize_L2(svec)"
   ]
  },
  {
   "cell_type": "markdown",
   "id": "483b4b76",
   "metadata": {},
   "source": [
    "# Step 5: Search for similar vector in the FAISS index created"
   ]
  },
  {
   "cell_type": "code",
   "execution_count": 50,
   "id": "48d3ca45",
   "metadata": {},
   "outputs": [
    {
     "data": {
      "text/plain": [
       "array([[1.3433161, 1.7125274]], dtype=float32)"
      ]
     },
     "execution_count": 50,
     "metadata": {},
     "output_type": "execute_result"
    }
   ],
   "source": [
    "distances, I = index.search(svec, k=2)\n",
    "distances"
   ]
  },
  {
   "cell_type": "code",
   "execution_count": 51,
   "id": "78e30de1",
   "metadata": {},
   "outputs": [
    {
     "data": {
      "text/plain": [
       "array([[1, 0]], dtype=int64)"
      ]
     },
     "execution_count": 51,
     "metadata": {},
     "output_type": "execute_result"
    }
   ],
   "source": [
    "I"
   ]
  },
  {
   "cell_type": "code",
   "execution_count": 52,
   "id": "ede90e04",
   "metadata": {},
   "outputs": [
    {
     "data": {
      "text/plain": [
       "[[1, 0]]"
      ]
     },
     "execution_count": 52,
     "metadata": {},
     "output_type": "execute_result"
    }
   ],
   "source": [
    "I.tolist()"
   ]
  },
  {
   "cell_type": "code",
   "execution_count": 53,
   "id": "cbc01032",
   "metadata": {},
   "outputs": [
    {
     "data": {
      "text/plain": [
       "[1, 0]"
      ]
     },
     "execution_count": 53,
     "metadata": {},
     "output_type": "execute_result"
    }
   ],
   "source": [
    "row_indices = I.tolist()[0]\n",
    "row_indices"
   ]
  },
  {
   "cell_type": "code",
   "execution_count": 54,
   "id": "2130b1cf",
   "metadata": {},
   "outputs": [
    {
     "data": {
      "text/html": [
       "<div>\n",
       "<style scoped>\n",
       "    .dataframe tbody tr th:only-of-type {\n",
       "        vertical-align: middle;\n",
       "    }\n",
       "\n",
       "    .dataframe tbody tr th {\n",
       "        vertical-align: top;\n",
       "    }\n",
       "\n",
       "    .dataframe thead th {\n",
       "        text-align: right;\n",
       "    }\n",
       "</style>\n",
       "<table border=\"1\" class=\"dataframe\">\n",
       "  <thead>\n",
       "    <tr style=\"text-align: right;\">\n",
       "      <th></th>\n",
       "      <th>text</th>\n",
       "      <th>category</th>\n",
       "    </tr>\n",
       "  </thead>\n",
       "  <tbody>\n",
       "    <tr>\n",
       "      <th>1</th>\n",
       "      <td>Fruits, whole grains and vegetables helps control blood pressure</td>\n",
       "      <td>Health</td>\n",
       "    </tr>\n",
       "    <tr>\n",
       "      <th>0</th>\n",
       "      <td>Meditation and yoga can improve mental health</td>\n",
       "      <td>Health</td>\n",
       "    </tr>\n",
       "  </tbody>\n",
       "</table>\n",
       "</div>"
      ],
      "text/plain": [
       "                                                               text category\n",
       "1  Fruits, whole grains and vegetables helps control blood pressure   Health\n",
       "0                     Meditation and yoga can improve mental health   Health"
      ]
     },
     "execution_count": 54,
     "metadata": {},
     "output_type": "execute_result"
    }
   ],
   "source": [
    "df.loc[row_indices]"
   ]
  },
  {
   "cell_type": "code",
   "execution_count": 55,
   "id": "9354496a",
   "metadata": {},
   "outputs": [
    {
     "data": {
      "text/plain": [
       "'An apple a day keeps the doctor away'"
      ]
     },
     "execution_count": 55,
     "metadata": {},
     "output_type": "execute_result"
    }
   ],
   "source": [
    "search_query"
   ]
  },
  {
   "cell_type": "markdown",
   "id": "7b88dfce",
   "metadata": {},
   "source": [
    "# OPENAI_API"
   ]
  },
  {
   "cell_type": "code",
   "execution_count": 56,
   "id": "ad04901a",
   "metadata": {},
   "outputs": [
    {
     "name": "stdout",
     "output_type": "stream",
     "text": [
      "Defaulting to user installation because normal site-packages is not writeable\n",
      "Requirement already satisfied: streamlit in c:\\users\\yashvanth\\appdata\\roaming\\python\\python39\\site-packages (1.34.0)\n",
      "Requirement already satisfied: gitpython!=3.1.19,<4,>=3.0.7 in c:\\users\\yashvanth\\appdata\\roaming\\python\\python39\\site-packages (from streamlit) (3.1.43)\n",
      "Requirement already satisfied: cachetools<6,>=4.0 in c:\\program files\\arcgis\\pro\\bin\\python\\envs\\arcgispro-py3\\lib\\site-packages (from streamlit) (4.2.2)\n",
      "Requirement already satisfied: pydeck<1,>=0.8.0b4 in c:\\users\\yashvanth\\appdata\\roaming\\python\\python39\\site-packages (from streamlit) (0.9.1)\n",
      "Requirement already satisfied: blinker<2,>=1.0.0 in c:\\users\\yashvanth\\appdata\\roaming\\python\\python39\\site-packages (from streamlit) (1.6.2)\n",
      "Requirement already satisfied: protobuf<5,>=3.20 in c:\\users\\yashvanth\\appdata\\roaming\\python\\python39\\site-packages (from streamlit) (4.23.0)\n",
      "Requirement already satisfied: packaging<25,>=16.8 in c:\\users\\yashvanth\\appdata\\roaming\\python\\python39\\site-packages (from streamlit) (23.2)\n",
      "Requirement already satisfied: toml<2,>=0.10.1 in c:\\program files\\arcgis\\pro\\bin\\python\\envs\\arcgispro-py3\\lib\\site-packages (from streamlit) (0.10.2)\n",
      "Requirement already satisfied: click<9,>=7.0 in c:\\users\\yashvanth\\appdata\\roaming\\python\\python39\\site-packages (from streamlit) (8.1.3)\n",
      "Requirement already satisfied: tenacity<9,>=8.1.0 in c:\\users\\yashvanth\\appdata\\roaming\\python\\python39\\site-packages (from streamlit) (8.3.0)\n",
      "Requirement already satisfied: numpy<2,>=1.19.3 in c:\\users\\yashvanth\\appdata\\roaming\\python\\python39\\site-packages (from streamlit) (1.23.5)\n",
      "Requirement already satisfied: watchdog>=2.1.5 in c:\\users\\yashvanth\\appdata\\roaming\\python\\python39\\site-packages (from streamlit) (4.0.0)\n",
      "Requirement already satisfied: pyarrow>=7.0 in c:\\users\\yashvanth\\appdata\\roaming\\python\\python39\\site-packages (from streamlit) (16.1.0)\n",
      "Requirement already satisfied: typing-extensions<5,>=4.3.0 in c:\\users\\yashvanth\\appdata\\roaming\\python\\python39\\site-packages (from streamlit) (4.7.1)\n",
      "Requirement already satisfied: tornado<7,>=6.0.3 in c:\\program files\\arcgis\\pro\\bin\\python\\envs\\arcgispro-py3\\lib\\site-packages (from streamlit) (6.1)\n",
      "Requirement already satisfied: pillow<11,>=7.1.0 in c:\\program files\\arcgis\\pro\\bin\\python\\envs\\arcgispro-py3\\lib\\site-packages (from streamlit) (9.1.0)\n",
      "Requirement already satisfied: altair<6,>=4.0 in c:\\users\\yashvanth\\appdata\\roaming\\python\\python39\\site-packages (from streamlit) (5.3.0)\n",
      "Requirement already satisfied: rich<14,>=10.14.0 in c:\\users\\yashvanth\\appdata\\roaming\\python\\python39\\site-packages (from streamlit) (13.7.1)\n",
      "Requirement already satisfied: pandas<3,>=1.3.0 in c:\\program files\\arcgis\\pro\\bin\\python\\envs\\arcgispro-py3\\lib\\site-packages (from streamlit) (1.3.5)\n",
      "Requirement already satisfied: requests<3,>=2.27 in c:\\users\\yashvanth\\appdata\\roaming\\python\\python39\\site-packages (from streamlit) (2.31.0)\n",
      "Requirement already satisfied: jsonschema>=3.0 in c:\\program files\\arcgis\\pro\\bin\\python\\envs\\arcgispro-py3\\lib\\site-packages (from altair<6,>=4.0->streamlit) (3.2.0)\n",
      "Requirement already satisfied: toolz in c:\\users\\yashvanth\\appdata\\roaming\\python\\python39\\site-packages (from altair<6,>=4.0->streamlit) (0.12.1)\n",
      "Requirement already satisfied: jinja2 in c:\\program files\\arcgis\\pro\\bin\\python\\envs\\arcgispro-py3\\lib\\site-packages (from altair<6,>=4.0->streamlit) (3.0.3)\n",
      "Requirement already satisfied: colorama in c:\\users\\yashvanth\\appdata\\roaming\\python\\python39\\site-packages (from click<9,>=7.0->streamlit) (0.4.6)\n",
      "Requirement already satisfied: gitdb<5,>=4.0.1 in c:\\users\\yashvanth\\appdata\\roaming\\python\\python39\\site-packages (from gitpython!=3.1.19,<4,>=3.0.7->streamlit) (4.0.11)\n",
      "Requirement already satisfied: smmap<6,>=3.0.1 in c:\\users\\yashvanth\\appdata\\roaming\\python\\python39\\site-packages (from gitdb<5,>=4.0.1->gitpython!=3.1.19,<4,>=3.0.7->streamlit) (5.0.1)\n",
      "Requirement already satisfied: pyrsistent>=0.14.0 in c:\\program files\\arcgis\\pro\\bin\\python\\envs\\arcgispro-py3\\lib\\site-packages (from jsonschema>=3.0->altair<6,>=4.0->streamlit) (0.18.0)\n",
      "Requirement already satisfied: attrs>=17.4.0 in c:\\program files\\arcgis\\pro\\bin\\python\\envs\\arcgispro-py3\\lib\\site-packages (from jsonschema>=3.0->altair<6,>=4.0->streamlit) (21.4.0)\n",
      "Requirement already satisfied: six>=1.11.0 in c:\\program files\\arcgis\\pro\\bin\\python\\envs\\arcgispro-py3\\lib\\site-packages (from jsonschema>=3.0->altair<6,>=4.0->streamlit) (1.16.0)\n",
      "Requirement already satisfied: setuptools in c:\\program files\\arcgis\\pro\\bin\\python\\envs\\arcgispro-py3\\lib\\site-packages (from jsonschema>=3.0->altair<6,>=4.0->streamlit) (60.10.0)\n",
      "Requirement already satisfied: python-dateutil>=2.7.3 in c:\\program files\\arcgis\\pro\\bin\\python\\envs\\arcgispro-py3\\lib\\site-packages (from pandas<3,>=1.3.0->streamlit) (2.8.2)\n",
      "Requirement already satisfied: pytz>=2017.3 in c:\\program files\\arcgis\\pro\\bin\\python\\envs\\arcgispro-py3\\lib\\site-packages\\pytz-2022.1-py3.9.egg (from pandas<3,>=1.3.0->streamlit) (2022.1)\n",
      "Requirement already satisfied: MarkupSafe>=2.0 in c:\\users\\yashvanth\\appdata\\roaming\\python\\python39\\site-packages (from jinja2->altair<6,>=4.0->streamlit) (2.1.2)\n",
      "Requirement already satisfied: idna<4,>=2.5 in c:\\users\\yashvanth\\appdata\\roaming\\python\\python39\\site-packages (from requests<3,>=2.27->streamlit) (3.7)\n",
      "Requirement already satisfied: certifi>=2017.4.17 in c:\\users\\yashvanth\\appdata\\roaming\\python\\python39\\site-packages (from requests<3,>=2.27->streamlit) (2024.2.2)\n",
      "Requirement already satisfied: charset-normalizer<4,>=2 in c:\\users\\yashvanth\\appdata\\roaming\\python\\python39\\site-packages (from requests<3,>=2.27->streamlit) (3.3.2)\n",
      "Requirement already satisfied: urllib3<3,>=1.21.1 in c:\\users\\yashvanth\\appdata\\roaming\\python\\python39\\site-packages (from requests<3,>=2.27->streamlit) (2.2.1)\n",
      "Requirement already satisfied: pygments<3.0.0,>=2.13.0 in c:\\users\\yashvanth\\appdata\\roaming\\python\\python39\\site-packages (from rich<14,>=10.14.0->streamlit) (2.18.0)\n",
      "Requirement already satisfied: markdown-it-py>=2.2.0 in c:\\users\\yashvanth\\appdata\\roaming\\python\\python39\\site-packages (from rich<14,>=10.14.0->streamlit) (3.0.0)\n",
      "Requirement already satisfied: mdurl~=0.1 in c:\\users\\yashvanth\\appdata\\roaming\\python\\python39\\site-packages (from markdown-it-py>=2.2.0->rich<14,>=10.14.0->streamlit) (0.1.2)\n"
     ]
    }
   ],
   "source": [
    "!pip install streamlit"
   ]
  },
  {
   "cell_type": "code",
   "execution_count": 57,
   "id": "725e0b1c",
   "metadata": {},
   "outputs": [],
   "source": [
    "import os\n",
    "import streamlit as st\n",
    "import pickle\n",
    "import time\n",
    "import langchain\n",
    "from langchain import OpenAI\n",
    "from langchain.chains import RetrievalQAWithSourcesChain\n",
    "from langchain.chains.qa_with_sources.loading import load_qa_with_sources_chain\n",
    "from langchain.text_splitter import RecursiveCharacterTextSplitter\n",
    "from langchain.document_loaders import UnstructuredURLLoader\n",
    "from langchain.embeddings import OpenAIEmbeddings\n",
    "from langchain.vectorstores import FAISS"
   ]
  },
  {
   "cell_type": "code",
   "execution_count": null,
   "id": "e39d584a",
   "metadata": {},
   "outputs": [],
   "source": [
    "#load openAI api key\n",
    "os.environ['OPENAI_API_KEY'] = 'OPENAI_API_KEY'"
   ]
  },
  {
   "cell_type": "code",
   "execution_count": null,
   "id": "a855e17d",
   "metadata": {},
   "outputs": [],
   "source": [
    "import openai\n",
    "\n",
    "# Ensure the API key is set in the OpenAI module\n",
    "openai.api_key = os.getenv('OPENAI_API_KEY')\n",
    "\n",
    "openai.api_key = 'OPENAI_API_KEY'\n"
   ]
  },
  {
   "cell_type": "code",
   "execution_count": null,
   "id": "254136e9",
   "metadata": {},
   "outputs": [],
   "source": [
    "from langchain.llms import OpenAI\n",
    "\n",
    "# Initialise LLM with required params and API key\n",
    "llm = OpenAI(temperature=0.9, max_tokens=500, openai_api_key=os.getenv('OPENAI_API_KEY'))\n",
    "\n",
    "llm = OpenAI(temperature=0.9, max_tokens=500, openai_api_key='OPENAI_API_KEY')\n"
   ]
  },
  {
   "cell_type": "code",
   "execution_count": 61,
   "id": "dfefa205",
   "metadata": {},
   "outputs": [],
   "source": [
    "llm = OpenAI(temperature=0.9, max_tokens=500) "
   ]
  },
  {
   "cell_type": "markdown",
   "id": "1be1da7b",
   "metadata": {},
   "source": [
    "# 1) Load data"
   ]
  },
  {
   "cell_type": "code",
   "execution_count": 62,
   "id": "ecbfa18f",
   "metadata": {},
   "outputs": [
    {
     "data": {
      "text/plain": [
       "2"
      ]
     },
     "execution_count": 62,
     "metadata": {},
     "output_type": "execute_result"
    }
   ],
   "source": [
    "loaders = UnstructuredURLLoader(urls=[\n",
    "    \"https://www.moneycontrol.com/news/business/markets/wall-street-rises-as-tesla-soars-on-ai-optimism-11351111.html\",\n",
    "    \"https://www.moneycontrol.com/news/business/tata-motors-launches-punch-icng-price-starts-at-rs-7-1-lakh-11098751.html\",\n",
    "])\n",
    "data = loaders.load() \n",
    "len(data)"
   ]
  },
  {
   "cell_type": "markdown",
   "id": "32ea7c0e",
   "metadata": {},
   "source": [
    "# 2) Split data to create chunks"
   ]
  },
  {
   "cell_type": "code",
   "execution_count": 63,
   "id": "d278524c",
   "metadata": {},
   "outputs": [],
   "source": [
    "text_splitter = RecursiveCharacterTextSplitter(\n",
    "    chunk_size=1000,\n",
    "    chunk_overlap=200\n",
    ")\n",
    "\n",
    "# As data is of type documents we can directly use split_documents over split_text in order to get the chunks.\n",
    "docs = text_splitter.split_documents(data)"
   ]
  },
  {
   "cell_type": "code",
   "execution_count": 64,
   "id": "dc79dddd",
   "metadata": {},
   "outputs": [
    {
     "data": {
      "text/plain": [
       "34"
      ]
     },
     "execution_count": 64,
     "metadata": {},
     "output_type": "execute_result"
    }
   ],
   "source": [
    "len(docs)"
   ]
  },
  {
   "cell_type": "code",
   "execution_count": 65,
   "id": "4460d76a",
   "metadata": {},
   "outputs": [
    {
     "data": {
      "text/plain": [
       "Document(page_content='English\\n\\nHindi\\n\\nGujarati\\n\\nSpecials\\n\\nMoneycontrol Trending Stock\\n\\nInfosys\\xa0INE009A01021, INFY, 500209\\n\\nState Bank of India\\xa0INE062A01020, SBIN, 500112\\n\\nYes Bank\\xa0INE528G01027, YESBANK, 532648\\n\\nBank Nifty\\n\\nNifty 500\\n\\nQuotes\\n\\nMutual Funds\\n\\nCommodities\\n\\nFutures & Options\\n\\nCurrency\\n\\nNews\\n\\nCryptocurrency\\n\\nForum\\n\\nNotices\\n\\nVideos\\n\\nGlossary\\n\\nAll\\n\\nHello, Login Hello, LoginLog-inor Sign-UpMy AccountMy Profile My PortfolioMy WatchlistFREE Credit Score₹100 Cash RewardMy AlertsMy MessagesPrice AlertsMy Profile My PROMy PortfolioMy WatchlistFREE Credit Score₹100 Cash RewardMy AlertsMy MessagesPrice AlertsLogoutChat with UsDownload AppFollow us on:\\n\\nGo Ad-Free\\n\\nMy Alerts', metadata={'source': 'https://www.moneycontrol.com/news/business/markets/wall-street-rises-as-tesla-soars-on-ai-optimism-11351111.html'})"
      ]
     },
     "execution_count": 65,
     "metadata": {},
     "output_type": "execute_result"
    }
   ],
   "source": [
    "docs[0]"
   ]
  },
  {
   "cell_type": "markdown",
   "id": "9900dfc8",
   "metadata": {},
   "source": [
    "# 3) Create embeddings for these chunks and save them to FAISS index"
   ]
  },
  {
   "cell_type": "code",
   "execution_count": 66,
   "id": "6d7d8f16",
   "metadata": {},
   "outputs": [
    {
     "name": "stdout",
     "output_type": "stream",
     "text": [
      "Defaulting to user installation because normal site-packages is not writeable\n",
      "Requirement already satisfied: tiktoken in c:\\users\\yashvanth\\appdata\\roaming\\python\\python39\\site-packages (0.7.0)\n",
      "Requirement already satisfied: requests>=2.26.0 in c:\\users\\yashvanth\\appdata\\roaming\\python\\python39\\site-packages (from tiktoken) (2.31.0)\n",
      "Requirement already satisfied: regex>=2022.1.18 in c:\\program files\\arcgis\\pro\\bin\\python\\envs\\arcgispro-py3\\lib\\site-packages (from tiktoken) (2022.3.15)\n",
      "Requirement already satisfied: idna<4,>=2.5 in c:\\users\\yashvanth\\appdata\\roaming\\python\\python39\\site-packages (from requests>=2.26.0->tiktoken) (3.7)\n",
      "Requirement already satisfied: certifi>=2017.4.17 in c:\\users\\yashvanth\\appdata\\roaming\\python\\python39\\site-packages (from requests>=2.26.0->tiktoken) (2024.2.2)\n",
      "Requirement already satisfied: charset-normalizer<4,>=2 in c:\\users\\yashvanth\\appdata\\roaming\\python\\python39\\site-packages (from requests>=2.26.0->tiktoken) (3.3.2)\n",
      "Requirement already satisfied: urllib3<3,>=1.21.1 in c:\\users\\yashvanth\\appdata\\roaming\\python\\python39\\site-packages (from requests>=2.26.0->tiktoken) (2.2.1)\n"
     ]
    }
   ],
   "source": [
    "!pip install tiktoken"
   ]
  },
  {
   "cell_type": "code",
   "execution_count": 67,
   "id": "c97c5a1b",
   "metadata": {},
   "outputs": [
    {
     "name": "stdout",
     "output_type": "stream",
     "text": [
      "Defaulting to user installation because normal site-packages is not writeable\n",
      "Requirement already satisfied: langchain==0.0.316 in c:\\users\\yashvanth\\appdata\\roaming\\python\\python39\\site-packages (0.0.316)\n",
      "Requirement already satisfied: langsmith<0.1.0,>=0.0.43 in c:\\users\\yashvanth\\appdata\\roaming\\python\\python39\\site-packages (from langchain==0.0.316) (0.0.92)\n",
      "Requirement already satisfied: tenacity<9.0.0,>=8.1.0 in c:\\users\\yashvanth\\appdata\\roaming\\python\\python39\\site-packages (from langchain==0.0.316) (8.3.0)\n",
      "Requirement already satisfied: requests<3,>=2 in c:\\users\\yashvanth\\appdata\\roaming\\python\\python39\\site-packages (from langchain==0.0.316) (2.31.0)\n",
      "Requirement already satisfied: PyYAML>=5.3 in c:\\program files\\arcgis\\pro\\bin\\python\\envs\\arcgispro-py3\\lib\\site-packages (from langchain==0.0.316) (6.0)\n",
      "Requirement already satisfied: pydantic<3,>=1 in c:\\users\\yashvanth\\appdata\\roaming\\python\\python39\\site-packages (from langchain==0.0.316) (1.10.11)\n",
      "Requirement already satisfied: anyio<4.0 in c:\\users\\yashvanth\\appdata\\roaming\\python\\python39\\site-packages (from langchain==0.0.316) (3.7.1)\n",
      "Requirement already satisfied: numpy<2,>=1 in c:\\users\\yashvanth\\appdata\\roaming\\python\\python39\\site-packages (from langchain==0.0.316) (1.23.5)\n",
      "Requirement already satisfied: async-timeout<5.0.0,>=4.0.0 in c:\\users\\yashvanth\\appdata\\roaming\\python\\python39\\site-packages (from langchain==0.0.316) (4.0.3)\n",
      "Requirement already satisfied: jsonpatch<2.0,>=1.33 in c:\\users\\yashvanth\\appdata\\roaming\\python\\python39\\site-packages (from langchain==0.0.316) (1.33)\n",
      "Requirement already satisfied: aiohttp<4.0.0,>=3.8.3 in c:\\users\\yashvanth\\appdata\\roaming\\python\\python39\\site-packages (from langchain==0.0.316) (3.9.3)\n",
      "Requirement already satisfied: SQLAlchemy<3,>=1.4 in c:\\users\\yashvanth\\appdata\\roaming\\python\\python39\\site-packages (from langchain==0.0.316) (2.0.29)\n",
      "Requirement already satisfied: dataclasses-json<0.7,>=0.5.7 in c:\\users\\yashvanth\\appdata\\roaming\\python\\python39\\site-packages (from langchain==0.0.316) (0.5.14)\n",
      "Requirement already satisfied: aiosignal>=1.1.2 in c:\\users\\yashvanth\\appdata\\roaming\\python\\python39\\site-packages (from aiohttp<4.0.0,>=3.8.3->langchain==0.0.316) (1.3.1)\n",
      "Requirement already satisfied: multidict<7.0,>=4.5 in c:\\users\\yashvanth\\appdata\\roaming\\python\\python39\\site-packages (from aiohttp<4.0.0,>=3.8.3->langchain==0.0.316) (6.0.5)\n",
      "Requirement already satisfied: attrs>=17.3.0 in c:\\program files\\arcgis\\pro\\bin\\python\\envs\\arcgispro-py3\\lib\\site-packages (from aiohttp<4.0.0,>=3.8.3->langchain==0.0.316) (21.4.0)\n",
      "Requirement already satisfied: yarl<2.0,>=1.0 in c:\\users\\yashvanth\\appdata\\roaming\\python\\python39\\site-packages (from aiohttp<4.0.0,>=3.8.3->langchain==0.0.316) (1.9.4)\n",
      "Requirement already satisfied: frozenlist>=1.1.1 in c:\\users\\yashvanth\\appdata\\roaming\\python\\python39\\site-packages (from aiohttp<4.0.0,>=3.8.3->langchain==0.0.316) (1.4.1)\n",
      "Requirement already satisfied: exceptiongroup in c:\\users\\yashvanth\\appdata\\roaming\\python\\python39\\site-packages (from anyio<4.0->langchain==0.0.316) (1.2.1)\n",
      "Requirement already satisfied: idna>=2.8 in c:\\users\\yashvanth\\appdata\\roaming\\python\\python39\\site-packages (from anyio<4.0->langchain==0.0.316) (3.7)\n",
      "Requirement already satisfied: sniffio>=1.1 in c:\\users\\yashvanth\\appdata\\roaming\\python\\python39\\site-packages (from anyio<4.0->langchain==0.0.316) (1.3.1)\n",
      "Requirement already satisfied: marshmallow<4.0.0,>=3.18.0 in c:\\users\\yashvanth\\appdata\\roaming\\python\\python39\\site-packages (from dataclasses-json<0.7,>=0.5.7->langchain==0.0.316) (3.21.1)\n",
      "Requirement already satisfied: typing-inspect<1,>=0.4.0 in c:\\users\\yashvanth\\appdata\\roaming\\python\\python39\\site-packages (from dataclasses-json<0.7,>=0.5.7->langchain==0.0.316) (0.9.0)\n",
      "Requirement already satisfied: jsonpointer>=1.9 in c:\\users\\yashvanth\\appdata\\roaming\\python\\python39\\site-packages (from jsonpatch<2.0,>=1.33->langchain==0.0.316) (2.4)\n",
      "Requirement already satisfied: packaging>=17.0 in c:\\users\\yashvanth\\appdata\\roaming\\python\\python39\\site-packages (from marshmallow<4.0.0,>=3.18.0->dataclasses-json<0.7,>=0.5.7->langchain==0.0.316) (23.2)\n",
      "Requirement already satisfied: typing-extensions>=4.2.0 in c:\\users\\yashvanth\\appdata\\roaming\\python\\python39\\site-packages (from pydantic<3,>=1->langchain==0.0.316) (4.7.1)\n",
      "Requirement already satisfied: charset-normalizer<4,>=2 in c:\\users\\yashvanth\\appdata\\roaming\\python\\python39\\site-packages (from requests<3,>=2->langchain==0.0.316) (3.3.2)\n",
      "Requirement already satisfied: certifi>=2017.4.17 in c:\\users\\yashvanth\\appdata\\roaming\\python\\python39\\site-packages (from requests<3,>=2->langchain==0.0.316) (2024.2.2)\n",
      "Requirement already satisfied: urllib3<3,>=1.21.1 in c:\\users\\yashvanth\\appdata\\roaming\\python\\python39\\site-packages (from requests<3,>=2->langchain==0.0.316) (2.2.1)\n",
      "Requirement already satisfied: greenlet!=0.4.17 in c:\\users\\yashvanth\\appdata\\roaming\\python\\python39\\site-packages (from SQLAlchemy<3,>=1.4->langchain==0.0.316) (3.0.3)\n",
      "Requirement already satisfied: mypy-extensions>=0.3.0 in c:\\users\\yashvanth\\appdata\\roaming\\python\\python39\\site-packages (from typing-inspect<1,>=0.4.0->dataclasses-json<0.7,>=0.5.7->langchain==0.0.316) (1.0.0)\n",
      "Defaulting to user installation because normal site-packages is not writeable\n",
      "Requirement already satisfied: openai==0.28.1 in c:\\users\\yashvanth\\appdata\\roaming\\python\\python39\\site-packages (0.28.1)\n",
      "Requirement already satisfied: aiohttp in c:\\users\\yashvanth\\appdata\\roaming\\python\\python39\\site-packages (from openai==0.28.1) (3.9.3)\n",
      "Requirement already satisfied: tqdm in c:\\users\\yashvanth\\appdata\\roaming\\python\\python39\\site-packages (from openai==0.28.1) (4.65.0)\n",
      "Requirement already satisfied: requests>=2.20 in c:\\users\\yashvanth\\appdata\\roaming\\python\\python39\\site-packages (from openai==0.28.1) (2.31.0)\n",
      "Requirement already satisfied: certifi>=2017.4.17 in c:\\users\\yashvanth\\appdata\\roaming\\python\\python39\\site-packages (from requests>=2.20->openai==0.28.1) (2024.2.2)\n",
      "Requirement already satisfied: idna<4,>=2.5 in c:\\users\\yashvanth\\appdata\\roaming\\python\\python39\\site-packages (from requests>=2.20->openai==0.28.1) (3.7)\n",
      "Requirement already satisfied: urllib3<3,>=1.21.1 in c:\\users\\yashvanth\\appdata\\roaming\\python\\python39\\site-packages (from requests>=2.20->openai==0.28.1) (2.2.1)\n",
      "Requirement already satisfied: charset-normalizer<4,>=2 in c:\\users\\yashvanth\\appdata\\roaming\\python\\python39\\site-packages (from requests>=2.20->openai==0.28.1) (3.3.2)\n",
      "Requirement already satisfied: aiosignal>=1.1.2 in c:\\users\\yashvanth\\appdata\\roaming\\python\\python39\\site-packages (from aiohttp->openai==0.28.1) (1.3.1)\n",
      "Requirement already satisfied: attrs>=17.3.0 in c:\\program files\\arcgis\\pro\\bin\\python\\envs\\arcgispro-py3\\lib\\site-packages (from aiohttp->openai==0.28.1) (21.4.0)\n",
      "Requirement already satisfied: async-timeout<5.0,>=4.0 in c:\\users\\yashvanth\\appdata\\roaming\\python\\python39\\site-packages (from aiohttp->openai==0.28.1) (4.0.3)\n",
      "Requirement already satisfied: multidict<7.0,>=4.5 in c:\\users\\yashvanth\\appdata\\roaming\\python\\python39\\site-packages (from aiohttp->openai==0.28.1) (6.0.5)\n",
      "Requirement already satisfied: yarl<2.0,>=1.0 in c:\\users\\yashvanth\\appdata\\roaming\\python\\python39\\site-packages (from aiohttp->openai==0.28.1) (1.9.4)\n",
      "Requirement already satisfied: frozenlist>=1.1.1 in c:\\users\\yashvanth\\appdata\\roaming\\python\\python39\\site-packages (from aiohttp->openai==0.28.1) (1.4.1)\n",
      "Requirement already satisfied: colorama in c:\\users\\yashvanth\\appdata\\roaming\\python\\python39\\site-packages (from tqdm->openai==0.28.1) (0.4.6)\n"
     ]
    }
   ],
   "source": [
    "!pip install langchain==0.0.316\n",
    "!pip install openai==0.28.1"
   ]
  },
  {
   "cell_type": "code",
   "execution_count": 68,
   "id": "82d878ad",
   "metadata": {},
   "outputs": [],
   "source": [
    "# Create the embeddings of the chunks using openAIEmbeddings\n",
    "embeddings = OpenAIEmbeddings()\n",
    "\n",
    "# Pass the documents and embeddings inorder to create FAISS vector index\n",
    "vectorindex_openai = FAISS.from_documents(docs, embeddings)"
   ]
  },
  {
   "cell_type": "code",
   "execution_count": 69,
   "id": "e2469c6a",
   "metadata": {},
   "outputs": [
    {
     "name": "stdout",
     "output_type": "stream",
     "text": [
      "Defaulting to user installation because normal site-packages is not writeable\n",
      "Requirement already satisfied: dill in c:\\users\\yashvanth\\appdata\\roaming\\python\\python39\\site-packages (0.3.8)\n"
     ]
    }
   ],
   "source": [
    "!pip install dill"
   ]
  },
  {
   "cell_type": "code",
   "execution_count": 70,
   "id": "166f025e",
   "metadata": {},
   "outputs": [],
   "source": [
    "import threading\n",
    "import pickle\n",
    "\n",
    "class VectorIndex:\n",
    "    def __init__(self):\n",
    "        self.lock = threading.RLock()\n",
    "\n",
    "    def __getstate__(self):\n",
    "        state = self.__dict__.copy()\n",
    "        state.pop('lock', None)  # Remove the lock from the serialized state\n",
    "        return state\n",
    "\n",
    "    def __setstate__(self, state):\n",
    "        self.__dict__.update(state)\n",
    "        self.lock = threading.RLock()  # Add the lock back after deserialization\n",
    "\n",
    "# Assuming vectorindex_openai is an instance of VectorIndex\n",
    "vectorindex_openai = VectorIndex()\n",
    "file_path = \"vector_index.pkl\"\n",
    "with open(file_path, \"wb\") as f:\n",
    "    pickle.dump(vectorindex_openai, f)"
   ]
  },
  {
   "cell_type": "code",
   "execution_count": 71,
   "id": "9615830e",
   "metadata": {},
   "outputs": [],
   "source": [
    "if os.path.exists(file_path):\n",
    "    with open(file_path, \"rb\") as f:\n",
    "        VectorIndex = pickle.load(f)"
   ]
  },
  {
   "cell_type": "markdown",
   "id": "004ab70a",
   "metadata": {},
   "source": [
    "# 4) Retrieve similar embeddings for a given question and call LLM to retrieve final answer"
   ]
  },
  {
   "cell_type": "code",
   "execution_count": 72,
   "id": "a4d8aae5",
   "metadata": {},
   "outputs": [
    {
     "name": "stdout",
     "output_type": "stream",
     "text": [
      "Defaulting to user installation because normal site-packages is not writeable\n",
      "Requirement already satisfied: faiss-cpu in c:\\users\\yashvanth\\appdata\\roaming\\python\\python39\\site-packages (1.8.0)\n",
      "Requirement already satisfied: langchain in c:\\users\\yashvanth\\appdata\\roaming\\python\\python39\\site-packages (0.0.316)\n",
      "Requirement already satisfied: openai in c:\\users\\yashvanth\\appdata\\roaming\\python\\python39\\site-packages (0.28.1)\n",
      "Requirement already satisfied: numpy in c:\\users\\yashvanth\\appdata\\roaming\\python\\python39\\site-packages (from faiss-cpu) (1.23.5)\n",
      "Requirement already satisfied: dataclasses-json<0.7,>=0.5.7 in c:\\users\\yashvanth\\appdata\\roaming\\python\\python39\\site-packages (from langchain) (0.5.14)\n",
      "Requirement already satisfied: langsmith<0.1.0,>=0.0.43 in c:\\users\\yashvanth\\appdata\\roaming\\python\\python39\\site-packages (from langchain) (0.0.92)\n",
      "Requirement already satisfied: aiohttp<4.0.0,>=3.8.3 in c:\\users\\yashvanth\\appdata\\roaming\\python\\python39\\site-packages (from langchain) (3.9.3)\n",
      "Requirement already satisfied: jsonpatch<2.0,>=1.33 in c:\\users\\yashvanth\\appdata\\roaming\\python\\python39\\site-packages (from langchain) (1.33)\n",
      "Requirement already satisfied: requests<3,>=2 in c:\\users\\yashvanth\\appdata\\roaming\\python\\python39\\site-packages (from langchain) (2.31.0)\n",
      "Requirement already satisfied: PyYAML>=5.3 in c:\\program files\\arcgis\\pro\\bin\\python\\envs\\arcgispro-py3\\lib\\site-packages (from langchain) (6.0)\n",
      "Requirement already satisfied: SQLAlchemy<3,>=1.4 in c:\\users\\yashvanth\\appdata\\roaming\\python\\python39\\site-packages (from langchain) (2.0.29)\n",
      "Requirement already satisfied: anyio<4.0 in c:\\users\\yashvanth\\appdata\\roaming\\python\\python39\\site-packages (from langchain) (3.7.1)\n",
      "Requirement already satisfied: tenacity<9.0.0,>=8.1.0 in c:\\users\\yashvanth\\appdata\\roaming\\python\\python39\\site-packages (from langchain) (8.3.0)\n",
      "Requirement already satisfied: async-timeout<5.0.0,>=4.0.0 in c:\\users\\yashvanth\\appdata\\roaming\\python\\python39\\site-packages (from langchain) (4.0.3)\n",
      "Requirement already satisfied: pydantic<3,>=1 in c:\\users\\yashvanth\\appdata\\roaming\\python\\python39\\site-packages (from langchain) (1.10.11)\n",
      "Requirement already satisfied: tqdm in c:\\users\\yashvanth\\appdata\\roaming\\python\\python39\\site-packages (from openai) (4.65.0)\n",
      "Requirement already satisfied: attrs>=17.3.0 in c:\\program files\\arcgis\\pro\\bin\\python\\envs\\arcgispro-py3\\lib\\site-packages (from aiohttp<4.0.0,>=3.8.3->langchain) (21.4.0)\n",
      "Requirement already satisfied: aiosignal>=1.1.2 in c:\\users\\yashvanth\\appdata\\roaming\\python\\python39\\site-packages (from aiohttp<4.0.0,>=3.8.3->langchain) (1.3.1)\n",
      "Requirement already satisfied: frozenlist>=1.1.1 in c:\\users\\yashvanth\\appdata\\roaming\\python\\python39\\site-packages (from aiohttp<4.0.0,>=3.8.3->langchain) (1.4.1)\n",
      "Requirement already satisfied: multidict<7.0,>=4.5 in c:\\users\\yashvanth\\appdata\\roaming\\python\\python39\\site-packages (from aiohttp<4.0.0,>=3.8.3->langchain) (6.0.5)\n",
      "Requirement already satisfied: yarl<2.0,>=1.0 in c:\\users\\yashvanth\\appdata\\roaming\\python\\python39\\site-packages (from aiohttp<4.0.0,>=3.8.3->langchain) (1.9.4)\n",
      "Requirement already satisfied: sniffio>=1.1 in c:\\users\\yashvanth\\appdata\\roaming\\python\\python39\\site-packages (from anyio<4.0->langchain) (1.3.1)\n",
      "Requirement already satisfied: idna>=2.8 in c:\\users\\yashvanth\\appdata\\roaming\\python\\python39\\site-packages (from anyio<4.0->langchain) (3.7)\n",
      "Requirement already satisfied: exceptiongroup in c:\\users\\yashvanth\\appdata\\roaming\\python\\python39\\site-packages (from anyio<4.0->langchain) (1.2.1)\n",
      "Requirement already satisfied: typing-inspect<1,>=0.4.0 in c:\\users\\yashvanth\\appdata\\roaming\\python\\python39\\site-packages (from dataclasses-json<0.7,>=0.5.7->langchain) (0.9.0)\n",
      "Requirement already satisfied: marshmallow<4.0.0,>=3.18.0 in c:\\users\\yashvanth\\appdata\\roaming\\python\\python39\\site-packages (from dataclasses-json<0.7,>=0.5.7->langchain) (3.21.1)\n",
      "Requirement already satisfied: jsonpointer>=1.9 in c:\\users\\yashvanth\\appdata\\roaming\\python\\python39\\site-packages (from jsonpatch<2.0,>=1.33->langchain) (2.4)\n",
      "Requirement already satisfied: packaging>=17.0 in c:\\users\\yashvanth\\appdata\\roaming\\python\\python39\\site-packages (from marshmallow<4.0.0,>=3.18.0->dataclasses-json<0.7,>=0.5.7->langchain) (23.2)\n",
      "Requirement already satisfied: typing-extensions>=4.2.0 in c:\\users\\yashvanth\\appdata\\roaming\\python\\python39\\site-packages (from pydantic<3,>=1->langchain) (4.7.1)\n",
      "Requirement already satisfied: charset-normalizer<4,>=2 in c:\\users\\yashvanth\\appdata\\roaming\\python\\python39\\site-packages (from requests<3,>=2->langchain) (3.3.2)\n",
      "Requirement already satisfied: certifi>=2017.4.17 in c:\\users\\yashvanth\\appdata\\roaming\\python\\python39\\site-packages (from requests<3,>=2->langchain) (2024.2.2)\n",
      "Requirement already satisfied: urllib3<3,>=1.21.1 in c:\\users\\yashvanth\\appdata\\roaming\\python\\python39\\site-packages (from requests<3,>=2->langchain) (2.2.1)\n",
      "Requirement already satisfied: greenlet!=0.4.17 in c:\\users\\yashvanth\\appdata\\roaming\\python\\python39\\site-packages (from SQLAlchemy<3,>=1.4->langchain) (3.0.3)\n",
      "Requirement already satisfied: mypy-extensions>=0.3.0 in c:\\users\\yashvanth\\appdata\\roaming\\python\\python39\\site-packages (from typing-inspect<1,>=0.4.0->dataclasses-json<0.7,>=0.5.7->langchain) (1.0.0)\n",
      "Requirement already satisfied: colorama in c:\\users\\yashvanth\\appdata\\roaming\\python\\python39\\site-packages (from tqdm->openai) (0.4.6)\n"
     ]
    }
   ],
   "source": [
    "!pip install faiss-cpu langchain openai"
   ]
  },
  {
   "cell_type": "code",
   "execution_count": null,
   "id": "d1c5d99e",
   "metadata": {},
   "outputs": [],
   "source": [
    "from langchain.chains import RetrievalQAWithSourcesChain\n",
    "from langchain.vectorstores import FAISS\n",
    "from langchain.embeddings import OpenAIEmbeddings\n",
    "from langchain.schema import Document\n",
    "\n",
    "embeddings = OpenAIEmbeddings()\n",
    "\n",
    "doc_texts = [\n",
    "    \"https://www.moneycontrol.com/news/business/markets/wall-street-rises-as-tesla-soars-on-ai-optimism-11351111.html\",\n",
    "    \"https://www.moneycontrol.com/news/business/tata-motors-launches-punch-icng-price-starts-at-rs-7-1-lakh-11098751.html\",\n",
    "]\n",
    "\n",
    "docs = [Document(page_content=text) for text in doc_texts]\n",
    "\n",
    "# Create the FAISS index from the documents\n",
    "vectorindex_openai = FAISS.from_documents(docs, embeddings)\n",
    "\n",
    "# Initialize the RetrievalQAWithSourcesChain with the FAISS vector store\n",
    "chain = RetrievalQAWithSourcesChain.from_llm(llm=llm, retriever=vectorindex_openai.as_retriever())\n",
    "chain\n"
   ]
  },
  {
   "cell_type": "code",
   "execution_count": 74,
   "id": "5de11a9b",
   "metadata": {},
   "outputs": [],
   "source": [
    "from langchain.docstore.document import Document\n",
    "\n",
    "documents = [\n",
    "    Document(page_content=\"https://www.moneycontrol.com/news/business/tata-motors-launches-punch-icng-price-starts-at-rs-7-1-lakh-11098751.html\", metadata={\"source\": \"https://www.moneycontrol.com/news/business/tata-motors-launches-punch-icng-price-starts-at-rs-7-1-lakh-11098751.html\"}),\n",
    "    Document(page_content=\"https://www.moneycontrol.com/news/business/markets/wall-street-rises-as-tesla-soars-on-ai-optimism-11351111.html\", metadata={\"source\": \"https://www.moneycontrol.com/news/business/markets/wall-street-rises-as-tesla-soars-on-ai-optimism-11351111.html\"})\n",
    "]\n",
    "\n",
    "# Create a FAISS index from these documents\n",
    "from langchain.vectorstores.faiss import FAISS\n",
    "faiss_index = FAISS.from_documents(documents, embeddings)\n"
   ]
  },
  {
   "cell_type": "code",
   "execution_count": 75,
   "id": "57e8619f",
   "metadata": {},
   "outputs": [],
   "source": [
    "from langchain.chains import RetrievalQAWithSourcesChain\n",
    "from langchain.chat_models import ChatOpenAI\n",
    "from langchain.vectorstores import FAISS\n",
    "\n",
    "vector_index = faiss_index.as_retriever()\n",
    "\n",
    "llm = OpenAI(model_name=\"gpt-3.5-turbo-instruct\")\n",
    "\n",
    "# Initialize the RetrievalQAWithSourcesChain with the FAISS vector store\n",
    "chain = RetrievalQAWithSourcesChain.from_llm(llm=llm, retriever=vector_index)\n"
   ]
  },
  {
   "cell_type": "code",
   "execution_count": 79,
   "id": "e68b3f3d",
   "metadata": {},
   "outputs": [
    {
     "name": "stderr",
     "output_type": "stream",
     "text": [
      "DEBUG:openai:message='Request to OpenAI API' method=post path=https://api.openai.com/v1/embeddings\n",
      "DEBUG:openai:api_version=None data='{\"input\": [[12840, 374, 279, 3430, 315, 23126, 6438, 602, 34, 6269, 30]], \"model\": \"text-embedding-ada-002\", \"encoding_format\": \"base64\"}' message='Post details'\n"
     ]
    },
    {
     "name": "stdout",
     "output_type": "stream",
     "text": [
      "\u001b[32;1m\u001b[1;3m[chain/start]\u001b[0m \u001b[1m[1:chain:RetrievalQAWithSourcesChain] Entering Chain run with input:\n",
      "\u001b[0m{\n",
      "  \"question\": \"what is the price of Tiago iCNG?\"\n",
      "}\n"
     ]
    },
    {
     "name": "stderr",
     "output_type": "stream",
     "text": [
      "DEBUG:urllib3.connectionpool:https://api.openai.com:443 \"POST /v1/embeddings HTTP/1.1\" 200 None\n",
      "DEBUG:openai:message='OpenAI API response' path=https://api.openai.com/v1/embeddings processing_ms=24 request_id=req_b09ea6fe54597eea71ab1070a8bb031f response_code=200\n",
      "DEBUG:openai:message='Request to OpenAI API' method=post path=https://api.openai.com/v1/completions\n",
      "DEBUG:openai:api_version=None data='{\"prompt\": [\"Use the following portion of a long document to see if any of the text is relevant to answer the question. \\\\nReturn any relevant text verbatim.\\\\nhttps://www.moneycontrol.com/news/business/tata-motors-launches-punch-icng-price-starts-at-rs-7-1-lakh-11098751.html\\\\nQuestion: what is the price of Tiago iCNG?\\\\nRelevant text, if any:\", \"Use the following portion of a long document to see if any of the text is relevant to answer the question. \\\\nReturn any relevant text verbatim.\\\\nhttps://www.moneycontrol.com/news/business/markets/wall-street-rises-as-tesla-soars-on-ai-optimism-11351111.html\\\\nQuestion: what is the price of Tiago iCNG?\\\\nRelevant text, if any:\"], \"model\": \"gpt-3.5-turbo-instruct\", \"temperature\": 0.7, \"max_tokens\": 256, \"top_p\": 1, \"frequency_penalty\": 0, \"presence_penalty\": 0, \"n\": 1, \"logit_bias\": {}}' message='Post details'\n"
     ]
    },
    {
     "name": "stdout",
     "output_type": "stream",
     "text": [
      "\u001b[32;1m\u001b[1;3m[chain/start]\u001b[0m \u001b[1m[1:chain:RetrievalQAWithSourcesChain > 3:chain:MapReduceDocumentsChain] Entering Chain run with input:\n",
      "\u001b[0m[inputs]\n",
      "\u001b[32;1m\u001b[1;3m[chain/start]\u001b[0m \u001b[1m[1:chain:RetrievalQAWithSourcesChain > 3:chain:MapReduceDocumentsChain > 4:chain:LLMChain] Entering Chain run with input:\n",
      "\u001b[0m{\n",
      "  \"input_list\": [\n",
      "    {\n",
      "      \"context\": \"https://www.moneycontrol.com/news/business/tata-motors-launches-punch-icng-price-starts-at-rs-7-1-lakh-11098751.html\",\n",
      "      \"question\": \"what is the price of Tiago iCNG?\"\n",
      "    },\n",
      "    {\n",
      "      \"context\": \"https://www.moneycontrol.com/news/business/markets/wall-street-rises-as-tesla-soars-on-ai-optimism-11351111.html\",\n",
      "      \"question\": \"what is the price of Tiago iCNG?\"\n",
      "    }\n",
      "  ]\n",
      "}\n",
      "\u001b[32;1m\u001b[1;3m[llm/start]\u001b[0m \u001b[1m[1:chain:RetrievalQAWithSourcesChain > 3:chain:MapReduceDocumentsChain > 4:chain:LLMChain > 5:llm:OpenAI] Entering LLM run with input:\n",
      "\u001b[0m{\n",
      "  \"prompts\": [\n",
      "    \"Use the following portion of a long document to see if any of the text is relevant to answer the question. \\nReturn any relevant text verbatim.\\nhttps://www.moneycontrol.com/news/business/tata-motors-launches-punch-icng-price-starts-at-rs-7-1-lakh-11098751.html\\nQuestion: what is the price of Tiago iCNG?\\nRelevant text, if any:\"\n",
      "  ]\n",
      "}\n",
      "\u001b[32;1m\u001b[1;3m[llm/start]\u001b[0m \u001b[1m[1:chain:RetrievalQAWithSourcesChain > 3:chain:MapReduceDocumentsChain > 4:chain:LLMChain > 6:llm:OpenAI] Entering LLM run with input:\n",
      "\u001b[0m{\n",
      "  \"prompts\": [\n",
      "    \"Use the following portion of a long document to see if any of the text is relevant to answer the question. \\nReturn any relevant text verbatim.\\nhttps://www.moneycontrol.com/news/business/markets/wall-street-rises-as-tesla-soars-on-ai-optimism-11351111.html\\nQuestion: what is the price of Tiago iCNG?\\nRelevant text, if any:\"\n",
      "  ]\n",
      "}\n"
     ]
    },
    {
     "name": "stderr",
     "output_type": "stream",
     "text": [
      "DEBUG:urllib3.connectionpool:https://api.openai.com:443 \"POST /v1/completions HTTP/1.1\" 200 None\n",
      "DEBUG:openai:message='OpenAI API response' path=https://api.openai.com/v1/completions processing_ms=382 request_id=req_64a93644813d11859ff7483a2cb65d64 response_code=200\n",
      "DEBUG:openai:message='Request to OpenAI API' method=post path=https://api.openai.com/v1/completions\n",
      "DEBUG:openai:api_version=None data='{\"prompt\": [\"Given the following extracted parts of a long document and a question, create a final answer with references (\\\\\"SOURCES\\\\\"). \\\\nIf you don\\'t know the answer, just say that you don\\'t know. Don\\'t try to make up an answer.\\\\nALWAYS return a \\\\\"SOURCES\\\\\" part in your answer.\\\\n\\\\nQUESTION: Which state/country\\'s law governs the interpretation of the contract?\\\\n=========\\\\nContent: This Agreement is governed by English law and the parties submit to the exclusive jurisdiction of the English courts in  relation to any dispute (contractual or non-contractual) concerning this Agreement save that either party may apply to any court for an  injunction or other relief to protect its Intellectual Property Rights.\\\\nSource: 28-pl\\\\nContent: No Waiver. Failure or delay in exercising any right or remedy under this Agreement shall not constitute a waiver of such (or any other)  right or remedy.\\\\n\\\\n11.7 Severability. The invalidity, illegality or unenforceability of any term (or part of a term) of this Agreement shall not affect the continuation  in force of the remainder of the term (if any) and this Agreement.\\\\n\\\\n11.8 No Agency. Except as expressly stated otherwise, nothing in this Agreement shall create an agency, partnership or joint venture of any  kind between the parties.\\\\n\\\\n11.9 No Third-Party Beneficiaries.\\\\nSource: 30-pl\\\\nContent: (b) if Google believes, in good faith, that the Distributor has violated or caused Google to violate any Anti-Bribery Laws (as  defined in Clause 8.5) or that such a violation is reasonably likely to occur,\\\\nSource: 4-pl\\\\n=========\\\\nFINAL ANSWER: This Agreement is governed by English law.\\\\nSOURCES: 28-pl\\\\n\\\\nQUESTION: What did the president say about Michael Jackson?\\\\n=========\\\\nContent: Madam Speaker, Madam Vice President, our First Lady and Second Gentleman. Members of Congress and the Cabinet. Justices of the Supreme Court. My fellow Americans.  \\\\n\\\\nLast year COVID-19 kept us apart. This year we are finally together again. \\\\n\\\\nTonight, we meet as Democrats Republicans and Independents. But most importantly as Americans. \\\\n\\\\nWith a duty to one another to the American people to the Constitution. \\\\n\\\\nAnd with an unwavering resolve that freedom will always triumph over tyranny. \\\\n\\\\nSix days ago, Russia\\\\u2019s Vladimir Putin sought to shake the foundations of the free world thinking he could make it bend to his menacing ways. But he badly miscalculated. \\\\n\\\\nHe thought he could roll into Ukraine and the world would roll over. Instead he met a wall of strength he never imagined. \\\\n\\\\nHe met the Ukrainian people. \\\\n\\\\nFrom President Zelenskyy to every Ukrainian, their fearlessness, their courage, their determination, inspires the world. \\\\n\\\\nGroups of citizens blocking tanks with their bodies. Everyone from students to retirees teachers turned soldiers defending their homeland.\\\\nSource: 0-pl\\\\nContent: And we won\\\\u2019t stop. \\\\n\\\\nWe have lost so much to COVID-19. Time with one another. And worst of all, so much loss of life. \\\\n\\\\nLet\\\\u2019s use this moment to reset. Let\\\\u2019s stop looking at COVID-19 as a partisan dividing line and see it for what it is: A God-awful disease.  \\\\n\\\\nLet\\\\u2019s stop seeing each other as enemies, and start seeing each other for who we really are: Fellow Americans.  \\\\n\\\\nWe can\\\\u2019t change how divided we\\\\u2019ve been. But we can change how we move forward\\\\u2014on COVID-19 and other issues we must face together. \\\\n\\\\nI recently visited the New York City Police Department days after the funerals of Officer Wilbert Mora and his partner, Officer Jason Rivera. \\\\n\\\\nThey were responding to a 9-1-1 call when a man shot and killed them with a stolen gun. \\\\n\\\\nOfficer Mora was 27 years old. \\\\n\\\\nOfficer Rivera was 22. \\\\n\\\\nBoth Dominican Americans who\\\\u2019d grown up on the same streets they later chose to patrol as police officers. \\\\n\\\\nI spoke with their families and told them that we are forever in debt for their sacrifice, and we will carry on their mission to restore the trust and safety every community deserves.\\\\nSource: 24-pl\\\\nContent: And a proud Ukrainian people, who have known 30 years  of independence, have repeatedly shown that they will not tolerate anyone who tries to take their country backwards.  \\\\n\\\\nTo all Americans, I will be honest with you, as I\\\\u2019ve always promised. A Russian dictator, invading a foreign country, has costs around the world. \\\\n\\\\nAnd I\\\\u2019m taking robust action to make sure the pain of our sanctions  is targeted at Russia\\\\u2019s economy. And I will use every tool at our disposal to protect American businesses and consumers. \\\\n\\\\nTonight, I can announce that the United States has worked with 30 other countries to release 60 Million barrels of oil from reserves around the world.  \\\\n\\\\nAmerica will lead that effort, releasing 30 Million barrels from our own Strategic Petroleum Reserve. And we stand ready to do more if necessary, unified with our allies.  \\\\n\\\\nThese steps will help blunt gas prices here at home. And I know the news about what\\\\u2019s happening can seem alarming. \\\\n\\\\nBut I want you to know that we are going to be okay.\\\\nSource: 5-pl\\\\nContent: More support for patients and families. \\\\n\\\\nTo get there, I call on Congress to fund ARPA-H, the Advanced Research Projects Agency for Health. \\\\n\\\\nIt\\\\u2019s based on DARPA\\\\u2014the Defense Department project that led to the Internet, GPS, and so much more.  \\\\n\\\\nARPA-H will have a singular purpose\\\\u2014to drive breakthroughs in cancer, Alzheimer\\\\u2019s, diabetes, and more. \\\\n\\\\nA unity agenda for the nation. \\\\n\\\\nWe can do this. \\\\n\\\\nMy fellow Americans\\\\u2014tonight , we have gathered in a sacred space\\\\u2014the citadel of our democracy. \\\\n\\\\nIn this Capitol, generation after generation, Americans have debated great questions amid great strife, and have done great things. \\\\n\\\\nWe have fought for freedom, expanded liberty, defeated totalitarianism and terror. \\\\n\\\\nAnd built the strongest, freest, and most prosperous nation the world has ever known. \\\\n\\\\nNow is the hour. \\\\n\\\\nOur moment of responsibility. \\\\n\\\\nOur test of resolve and conscience, of history itself. \\\\n\\\\nIt is in this moment that our character is formed. Our purpose is found. Our future is forged. \\\\n\\\\nWell I know this nation.\\\\nSource: 34-pl\\\\n=========\\\\nFINAL ANSWER: The president did not mention Michael Jackson.\\\\nSOURCES:\\\\n\\\\nQUESTION: what is the price of Tiago iCNG?\\\\n=========\\\\nContent: \\\\nThe price of Tata Motors\\' Tiago iCNG starts at Rs. 7.1 lakh.\\\\nSource: https://www.moneycontrol.com/news/business/tata-motors-launches-punch-icng-price-starts-at-rs-7-1-lakh-11098751.html\\\\n\\\\nContent:  No relevant text found.\\\\nSource: https://www.moneycontrol.com/news/business/markets/wall-street-rises-as-tesla-soars-on-ai-optimism-11351111.html\\\\n=========\\\\nFINAL ANSWER:\"], \"model\": \"gpt-3.5-turbo-instruct\", \"temperature\": 0.7, \"max_tokens\": 256, \"top_p\": 1, \"frequency_penalty\": 0, \"presence_penalty\": 0, \"n\": 1, \"logit_bias\": {}}' message='Post details'\n"
     ]
    },
    {
     "name": "stdout",
     "output_type": "stream",
     "text": [
      "\u001b[36;1m\u001b[1;3m[llm/end]\u001b[0m \u001b[1m[1:chain:RetrievalQAWithSourcesChain > 3:chain:MapReduceDocumentsChain > 4:chain:LLMChain > 5:llm:OpenAI] [921ms] Exiting LLM run with output:\n",
      "\u001b[0m{\n",
      "  \"generations\": [\n",
      "    [\n",
      "      {\n",
      "        \"text\": \"\\nThe price of Tata Motors' Tiago iCNG starts at Rs. 7.1 lakh.\",\n",
      "        \"generation_info\": {\n",
      "          \"finish_reason\": \"stop\",\n",
      "          \"logprobs\": null\n",
      "        }\n",
      "      }\n",
      "    ]\n",
      "  ],\n",
      "  \"llm_output\": {\n",
      "    \"token_usage\": {\n",
      "      \"prompt_tokens\": 172,\n",
      "      \"completion_tokens\": 27,\n",
      "      \"total_tokens\": 199\n",
      "    },\n",
      "    \"model_name\": \"gpt-3.5-turbo-instruct\"\n",
      "  },\n",
      "  \"run\": null\n",
      "}\n",
      "\u001b[36;1m\u001b[1;3m[llm/end]\u001b[0m \u001b[1m[1:chain:RetrievalQAWithSourcesChain > 3:chain:MapReduceDocumentsChain > 4:chain:LLMChain > 6:llm:OpenAI] [921ms] Exiting LLM run with output:\n",
      "\u001b[0m{\n",
      "  \"generations\": [\n",
      "    [\n",
      "      {\n",
      "        \"text\": \" No relevant text found.\",\n",
      "        \"generation_info\": {\n",
      "          \"finish_reason\": \"stop\",\n",
      "          \"logprobs\": null\n",
      "        }\n",
      "      }\n",
      "    ]\n",
      "  ],\n",
      "  \"llm_output\": {\n",
      "    \"token_usage\": {},\n",
      "    \"model_name\": \"gpt-3.5-turbo-instruct\"\n",
      "  },\n",
      "  \"run\": null\n",
      "}\n",
      "\u001b[36;1m\u001b[1;3m[chain/end]\u001b[0m \u001b[1m[1:chain:RetrievalQAWithSourcesChain > 3:chain:MapReduceDocumentsChain > 4:chain:LLMChain] [923ms] Exiting Chain run with output:\n",
      "\u001b[0m{\n",
      "  \"outputs\": [\n",
      "    {\n",
      "      \"text\": \"\\nThe price of Tata Motors' Tiago iCNG starts at Rs. 7.1 lakh.\"\n",
      "    },\n",
      "    {\n",
      "      \"text\": \" No relevant text found.\"\n",
      "    }\n",
      "  ]\n",
      "}\n",
      "\u001b[32;1m\u001b[1;3m[chain/start]\u001b[0m \u001b[1m[1:chain:RetrievalQAWithSourcesChain > 3:chain:MapReduceDocumentsChain > 7:chain:LLMChain] Entering Chain run with input:\n",
      "\u001b[0m{\n",
      "  \"question\": \"what is the price of Tiago iCNG?\",\n",
      "  \"summaries\": \"Content: \\nThe price of Tata Motors' Tiago iCNG starts at Rs. 7.1 lakh.\\nSource: https://www.moneycontrol.com/news/business/tata-motors-launches-punch-icng-price-starts-at-rs-7-1-lakh-11098751.html\\n\\nContent:  No relevant text found.\\nSource: https://www.moneycontrol.com/news/business/markets/wall-street-rises-as-tesla-soars-on-ai-optimism-11351111.html\"\n",
      "}\n",
      "\u001b[32;1m\u001b[1;3m[llm/start]\u001b[0m \u001b[1m[1:chain:RetrievalQAWithSourcesChain > 3:chain:MapReduceDocumentsChain > 7:chain:LLMChain > 8:llm:OpenAI] Entering LLM run with input:\n",
      "\u001b[0m{\n",
      "  \"prompts\": [\n",
      "    \"Given the following extracted parts of a long document and a question, create a final answer with references (\\\"SOURCES\\\"). \\nIf you don't know the answer, just say that you don't know. Don't try to make up an answer.\\nALWAYS return a \\\"SOURCES\\\" part in your answer.\\n\\nQUESTION: Which state/country's law governs the interpretation of the contract?\\n=========\\nContent: This Agreement is governed by English law and the parties submit to the exclusive jurisdiction of the English courts in  relation to any dispute (contractual or non-contractual) concerning this Agreement save that either party may apply to any court for an  injunction or other relief to protect its Intellectual Property Rights.\\nSource: 28-pl\\nContent: No Waiver. Failure or delay in exercising any right or remedy under this Agreement shall not constitute a waiver of such (or any other)  right or remedy.\\n\\n11.7 Severability. The invalidity, illegality or unenforceability of any term (or part of a term) of this Agreement shall not affect the continuation  in force of the remainder of the term (if any) and this Agreement.\\n\\n11.8 No Agency. Except as expressly stated otherwise, nothing in this Agreement shall create an agency, partnership or joint venture of any  kind between the parties.\\n\\n11.9 No Third-Party Beneficiaries.\\nSource: 30-pl\\nContent: (b) if Google believes, in good faith, that the Distributor has violated or caused Google to violate any Anti-Bribery Laws (as  defined in Clause 8.5) or that such a violation is reasonably likely to occur,\\nSource: 4-pl\\n=========\\nFINAL ANSWER: This Agreement is governed by English law.\\nSOURCES: 28-pl\\n\\nQUESTION: What did the president say about Michael Jackson?\\n=========\\nContent: Madam Speaker, Madam Vice President, our First Lady and Second Gentleman. Members of Congress and the Cabinet. Justices of the Supreme Court. My fellow Americans.  \\n\\nLast year COVID-19 kept us apart. This year we are finally together again. \\n\\nTonight, we meet as Democrats Republicans and Independents. But most importantly as Americans. \\n\\nWith a duty to one another to the American people to the Constitution. \\n\\nAnd with an unwavering resolve that freedom will always triumph over tyranny. \\n\\nSix days ago, Russia’s Vladimir Putin sought to shake the foundations of the free world thinking he could make it bend to his menacing ways. But he badly miscalculated. \\n\\nHe thought he could roll into Ukraine and the world would roll over. Instead he met a wall of strength he never imagined. \\n\\nHe met the Ukrainian people. \\n\\nFrom President Zelenskyy to every Ukrainian, their fearlessness, their courage, their determination, inspires the world. \\n\\nGroups of citizens blocking tanks with their bodies. Everyone from students to retirees teachers turned soldiers defending their homeland.\\nSource: 0-pl\\nContent: And we won’t stop. \\n\\nWe have lost so much to COVID-19. Time with one another. And worst of all, so much loss of life. \\n\\nLet’s use this moment to reset. Let’s stop looking at COVID-19 as a partisan dividing line and see it for what it is: A God-awful disease.  \\n\\nLet’s stop seeing each other as enemies, and start seeing each other for who we really are: Fellow Americans.  \\n\\nWe can’t change how divided we’ve been. But we can change how we move forward—on COVID-19 and other issues we must face together. \\n\\nI recently visited the New York City Police Department days after the funerals of Officer Wilbert Mora and his partner, Officer Jason Rivera. \\n\\nThey were responding to a 9-1-1 call when a man shot and killed them with a stolen gun. \\n\\nOfficer Mora was 27 years old. \\n\\nOfficer Rivera was 22. \\n\\nBoth Dominican Americans who’d grown up on the same streets they later chose to patrol as police officers. \\n\\nI spoke with their families and told them that we are forever in debt for their sacrifice, and we will carry on their mission to restore the trust and safety every community deserves.\\nSource: 24-pl\\nContent: And a proud Ukrainian people, who have known 30 years  of independence, have repeatedly shown that they will not tolerate anyone who tries to take their country backwards.  \\n\\nTo all Americans, I will be honest with you, as I’ve always promised. A Russian dictator, invading a foreign country, has costs around the world. \\n\\nAnd I’m taking robust action to make sure the pain of our sanctions  is targeted at Russia’s economy. And I will use every tool at our disposal to protect American businesses and consumers. \\n\\nTonight, I can announce that the United States has worked with 30 other countries to release 60 Million barrels of oil from reserves around the world.  \\n\\nAmerica will lead that effort, releasing 30 Million barrels from our own Strategic Petroleum Reserve. And we stand ready to do more if necessary, unified with our allies.  \\n\\nThese steps will help blunt gas prices here at home. And I know the news about what’s happening can seem alarming. \\n\\nBut I want you to know that we are going to be okay.\\nSource: 5-pl\\nContent: More support for patients and families. \\n\\nTo get there, I call on Congress to fund ARPA-H, the Advanced Research Projects Agency for Health. \\n\\nIt’s based on DARPA—the Defense Department project that led to the Internet, GPS, and so much more.  \\n\\nARPA-H will have a singular purpose—to drive breakthroughs in cancer, Alzheimer’s, diabetes, and more. \\n\\nA unity agenda for the nation. \\n\\nWe can do this. \\n\\nMy fellow Americans—tonight , we have gathered in a sacred space—the citadel of our democracy. \\n\\nIn this Capitol, generation after generation, Americans have debated great questions amid great strife, and have done great things. \\n\\nWe have fought for freedom, expanded liberty, defeated totalitarianism and terror. \\n\\nAnd built the strongest, freest, and most prosperous nation the world has ever known. \\n\\nNow is the hour. \\n\\nOur moment of responsibility. \\n\\nOur test of resolve and conscience, of history itself. \\n\\nIt is in this moment that our character is formed. Our purpose is found. Our future is forged. \\n\\nWell I know this nation.\\nSource: 34-pl\\n=========\\nFINAL ANSWER: The president did not mention Michael Jackson.\\nSOURCES:\\n\\nQUESTION: what is the price of Tiago iCNG?\\n=========\\nContent: \\nThe price of Tata Motors' Tiago iCNG starts at Rs. 7.1 lakh.\\nSource: https://www.moneycontrol.com/news/business/tata-motors-launches-punch-icng-price-starts-at-rs-7-1-lakh-11098751.html\\n\\nContent:  No relevant text found.\\nSource: https://www.moneycontrol.com/news/business/markets/wall-street-rises-as-tesla-soars-on-ai-optimism-11351111.html\\n=========\\nFINAL ANSWER:\"\n",
      "  ]\n",
      "}\n"
     ]
    },
    {
     "name": "stderr",
     "output_type": "stream",
     "text": [
      "DEBUG:urllib3.connectionpool:https://api.openai.com:443 \"POST /v1/completions HTTP/1.1\" 200 None\n",
      "DEBUG:openai:message='OpenAI API response' path=https://api.openai.com/v1/completions processing_ms=1073 request_id=req_f08911903df49ad9254108db378aac6e response_code=200\n"
     ]
    },
    {
     "name": "stdout",
     "output_type": "stream",
     "text": [
      "\u001b[36;1m\u001b[1;3m[llm/end]\u001b[0m \u001b[1m[1:chain:RetrievalQAWithSourcesChain > 3:chain:MapReduceDocumentsChain > 7:chain:LLMChain > 8:llm:OpenAI] [1.53s] Exiting LLM run with output:\n",
      "\u001b[0m{\n",
      "  \"generations\": [\n",
      "    [\n",
      "      {\n",
      "        \"text\": \" The price of Tata Motors' Tiago iCNG starts at Rs. 7.1 lakh.\\nSOURCES: https://www.moneycontrol.com/news/business/tata-motors-launches-punch-icng-price-starts-at-rs-7-1-lakh-11098751.html\",\n",
      "        \"generation_info\": {\n",
      "          \"finish_reason\": \"stop\",\n",
      "          \"logprobs\": null\n",
      "        }\n",
      "      }\n",
      "    ]\n",
      "  ],\n",
      "  \"llm_output\": {\n",
      "    \"token_usage\": {\n",
      "      \"prompt_tokens\": 1460,\n",
      "      \"completion_tokens\": 61,\n",
      "      \"total_tokens\": 1521\n",
      "    },\n",
      "    \"model_name\": \"gpt-3.5-turbo-instruct\"\n",
      "  },\n",
      "  \"run\": null\n",
      "}\n",
      "\u001b[36;1m\u001b[1;3m[chain/end]\u001b[0m \u001b[1m[1:chain:RetrievalQAWithSourcesChain > 3:chain:MapReduceDocumentsChain > 7:chain:LLMChain] [1.53s] Exiting Chain run with output:\n",
      "\u001b[0m{\n",
      "  \"text\": \" The price of Tata Motors' Tiago iCNG starts at Rs. 7.1 lakh.\\nSOURCES: https://www.moneycontrol.com/news/business/tata-motors-launches-punch-icng-price-starts-at-rs-7-1-lakh-11098751.html\"\n",
      "}\n",
      "\u001b[36;1m\u001b[1;3m[chain/end]\u001b[0m \u001b[1m[1:chain:RetrievalQAWithSourcesChain > 3:chain:MapReduceDocumentsChain] [2.46s] Exiting Chain run with output:\n",
      "\u001b[0m{\n",
      "  \"output_text\": \" The price of Tata Motors' Tiago iCNG starts at Rs. 7.1 lakh.\\nSOURCES: https://www.moneycontrol.com/news/business/tata-motors-launches-punch-icng-price-starts-at-rs-7-1-lakh-11098751.html\"\n",
      "}\n",
      "\u001b[36;1m\u001b[1;3m[chain/end]\u001b[0m \u001b[1m[1:chain:RetrievalQAWithSourcesChain] [2.97s] Exiting Chain run with output:\n",
      "\u001b[0m{\n",
      "  \"answer\": \" The price of Tata Motors' Tiago iCNG starts at Rs. 7.1 lakh.\\n\",\n",
      "  \"sources\": \"https://www.moneycontrol.com/news/business/tata-motors-launches-punch-icng-price-starts-at-rs-7-1-lakh-11098751.html\"\n",
      "}\n",
      "{'answer': \" The price of Tata Motors' Tiago iCNG starts at Rs. 7.1 lakh.\\n\", 'sources': 'https://www.moneycontrol.com/news/business/tata-motors-launches-punch-icng-price-starts-at-rs-7-1-lakh-11098751.html'}\n"
     ]
    }
   ],
   "source": [
    "query = \"what is the price of Tiago iCNG?\"\n",
    "result = chain({\"question\": query}, return_only_outputs=True)\n",
    "print(result)"
   ]
  },
  {
   "cell_type": "code",
   "execution_count": 81,
   "id": "5be08fb5",
   "metadata": {},
   "outputs": [
    {
     "name": "stderr",
     "output_type": "stream",
     "text": [
      "DEBUG:openai:message='Request to OpenAI API' method=post path=https://api.openai.com/v1/embeddings\n",
      "DEBUG:openai:api_version=None data='{\"input\": [[12840, 374, 279, 3430, 315, 23126, 6438, 602, 34, 6269, 30]], \"model\": \"text-embedding-ada-002\", \"encoding_format\": \"base64\"}' message='Post details'\n"
     ]
    },
    {
     "name": "stdout",
     "output_type": "stream",
     "text": [
      "\u001b[32;1m\u001b[1;3m[chain/start]\u001b[0m \u001b[1m[1:chain:RetrievalQAWithSourcesChain] Entering Chain run with input:\n",
      "\u001b[0m{\n",
      "  \"question\": \"what is the price of Tiago iCNG?\"\n",
      "}\n"
     ]
    },
    {
     "name": "stderr",
     "output_type": "stream",
     "text": [
      "DEBUG:urllib3.connectionpool:https://api.openai.com:443 \"POST /v1/embeddings HTTP/1.1\" 200 None\n",
      "DEBUG:openai:message='OpenAI API response' path=https://api.openai.com/v1/embeddings processing_ms=24 request_id=req_bd233d209af25e543234bb59b228e03f response_code=200\n",
      "DEBUG:openai:message='Request to OpenAI API' method=post path=https://api.openai.com/v1/completions\n",
      "DEBUG:openai:api_version=None data='{\"prompt\": [\"Use the following portion of a long document to see if any of the text is relevant to answer the question. \\\\nReturn any relevant text verbatim.\\\\nhttps://www.moneycontrol.com/news/business/tata-motors-launches-punch-icng-price-starts-at-rs-7-1-lakh-11098751.html\\\\nQuestion: what is the price of Tiago iCNG?\\\\nRelevant text, if any:\", \"Use the following portion of a long document to see if any of the text is relevant to answer the question. \\\\nReturn any relevant text verbatim.\\\\nhttps://www.moneycontrol.com/news/business/markets/wall-street-rises-as-tesla-soars-on-ai-optimism-11351111.html\\\\nQuestion: what is the price of Tiago iCNG?\\\\nRelevant text, if any:\"], \"model\": \"gpt-3.5-turbo-instruct\", \"temperature\": 0.7, \"max_tokens\": 256, \"top_p\": 1, \"frequency_penalty\": 0, \"presence_penalty\": 0, \"n\": 1, \"logit_bias\": {}}' message='Post details'\n"
     ]
    },
    {
     "name": "stdout",
     "output_type": "stream",
     "text": [
      "\u001b[32;1m\u001b[1;3m[chain/start]\u001b[0m \u001b[1m[1:chain:RetrievalQAWithSourcesChain > 3:chain:MapReduceDocumentsChain] Entering Chain run with input:\n",
      "\u001b[0m[inputs]\n",
      "\u001b[32;1m\u001b[1;3m[chain/start]\u001b[0m \u001b[1m[1:chain:RetrievalQAWithSourcesChain > 3:chain:MapReduceDocumentsChain > 4:chain:LLMChain] Entering Chain run with input:\n",
      "\u001b[0m{\n",
      "  \"input_list\": [\n",
      "    {\n",
      "      \"context\": \"https://www.moneycontrol.com/news/business/tata-motors-launches-punch-icng-price-starts-at-rs-7-1-lakh-11098751.html\",\n",
      "      \"question\": \"what is the price of Tiago iCNG?\"\n",
      "    },\n",
      "    {\n",
      "      \"context\": \"https://www.moneycontrol.com/news/business/markets/wall-street-rises-as-tesla-soars-on-ai-optimism-11351111.html\",\n",
      "      \"question\": \"what is the price of Tiago iCNG?\"\n",
      "    }\n",
      "  ]\n",
      "}\n",
      "\u001b[32;1m\u001b[1;3m[llm/start]\u001b[0m \u001b[1m[1:chain:RetrievalQAWithSourcesChain > 3:chain:MapReduceDocumentsChain > 4:chain:LLMChain > 5:llm:OpenAI] Entering LLM run with input:\n",
      "\u001b[0m{\n",
      "  \"prompts\": [\n",
      "    \"Use the following portion of a long document to see if any of the text is relevant to answer the question. \\nReturn any relevant text verbatim.\\nhttps://www.moneycontrol.com/news/business/tata-motors-launches-punch-icng-price-starts-at-rs-7-1-lakh-11098751.html\\nQuestion: what is the price of Tiago iCNG?\\nRelevant text, if any:\"\n",
      "  ]\n",
      "}\n",
      "\u001b[32;1m\u001b[1;3m[llm/start]\u001b[0m \u001b[1m[1:chain:RetrievalQAWithSourcesChain > 3:chain:MapReduceDocumentsChain > 4:chain:LLMChain > 6:llm:OpenAI] Entering LLM run with input:\n",
      "\u001b[0m{\n",
      "  \"prompts\": [\n",
      "    \"Use the following portion of a long document to see if any of the text is relevant to answer the question. \\nReturn any relevant text verbatim.\\nhttps://www.moneycontrol.com/news/business/markets/wall-street-rises-as-tesla-soars-on-ai-optimism-11351111.html\\nQuestion: what is the price of Tiago iCNG?\\nRelevant text, if any:\"\n",
      "  ]\n",
      "}\n"
     ]
    },
    {
     "name": "stderr",
     "output_type": "stream",
     "text": [
      "DEBUG:urllib3.connectionpool:https://api.openai.com:443 \"POST /v1/completions HTTP/1.1\" 200 None\n",
      "DEBUG:openai:message='OpenAI API response' path=https://api.openai.com/v1/completions processing_ms=678 request_id=req_a4aa8020621f6a61d3a4f90c124d42ce response_code=200\n",
      "DEBUG:openai:message='Request to OpenAI API' method=post path=https://api.openai.com/v1/completions\n",
      "DEBUG:openai:api_version=None data='{\"prompt\": [\"Given the following extracted parts of a long document and a question, create a final answer with references (\\\\\"SOURCES\\\\\"). \\\\nIf you don\\'t know the answer, just say that you don\\'t know. Don\\'t try to make up an answer.\\\\nALWAYS return a \\\\\"SOURCES\\\\\" part in your answer.\\\\n\\\\nQUESTION: Which state/country\\'s law governs the interpretation of the contract?\\\\n=========\\\\nContent: This Agreement is governed by English law and the parties submit to the exclusive jurisdiction of the English courts in  relation to any dispute (contractual or non-contractual) concerning this Agreement save that either party may apply to any court for an  injunction or other relief to protect its Intellectual Property Rights.\\\\nSource: 28-pl\\\\nContent: No Waiver. Failure or delay in exercising any right or remedy under this Agreement shall not constitute a waiver of such (or any other)  right or remedy.\\\\n\\\\n11.7 Severability. The invalidity, illegality or unenforceability of any term (or part of a term) of this Agreement shall not affect the continuation  in force of the remainder of the term (if any) and this Agreement.\\\\n\\\\n11.8 No Agency. Except as expressly stated otherwise, nothing in this Agreement shall create an agency, partnership or joint venture of any  kind between the parties.\\\\n\\\\n11.9 No Third-Party Beneficiaries.\\\\nSource: 30-pl\\\\nContent: (b) if Google believes, in good faith, that the Distributor has violated or caused Google to violate any Anti-Bribery Laws (as  defined in Clause 8.5) or that such a violation is reasonably likely to occur,\\\\nSource: 4-pl\\\\n=========\\\\nFINAL ANSWER: This Agreement is governed by English law.\\\\nSOURCES: 28-pl\\\\n\\\\nQUESTION: What did the president say about Michael Jackson?\\\\n=========\\\\nContent: Madam Speaker, Madam Vice President, our First Lady and Second Gentleman. Members of Congress and the Cabinet. Justices of the Supreme Court. My fellow Americans.  \\\\n\\\\nLast year COVID-19 kept us apart. This year we are finally together again. \\\\n\\\\nTonight, we meet as Democrats Republicans and Independents. But most importantly as Americans. \\\\n\\\\nWith a duty to one another to the American people to the Constitution. \\\\n\\\\nAnd with an unwavering resolve that freedom will always triumph over tyranny. \\\\n\\\\nSix days ago, Russia\\\\u2019s Vladimir Putin sought to shake the foundations of the free world thinking he could make it bend to his menacing ways. But he badly miscalculated. \\\\n\\\\nHe thought he could roll into Ukraine and the world would roll over. Instead he met a wall of strength he never imagined. \\\\n\\\\nHe met the Ukrainian people. \\\\n\\\\nFrom President Zelenskyy to every Ukrainian, their fearlessness, their courage, their determination, inspires the world. \\\\n\\\\nGroups of citizens blocking tanks with their bodies. Everyone from students to retirees teachers turned soldiers defending their homeland.\\\\nSource: 0-pl\\\\nContent: And we won\\\\u2019t stop. \\\\n\\\\nWe have lost so much to COVID-19. Time with one another. And worst of all, so much loss of life. \\\\n\\\\nLet\\\\u2019s use this moment to reset. Let\\\\u2019s stop looking at COVID-19 as a partisan dividing line and see it for what it is: A God-awful disease.  \\\\n\\\\nLet\\\\u2019s stop seeing each other as enemies, and start seeing each other for who we really are: Fellow Americans.  \\\\n\\\\nWe can\\\\u2019t change how divided we\\\\u2019ve been. But we can change how we move forward\\\\u2014on COVID-19 and other issues we must face together. \\\\n\\\\nI recently visited the New York City Police Department days after the funerals of Officer Wilbert Mora and his partner, Officer Jason Rivera. \\\\n\\\\nThey were responding to a 9-1-1 call when a man shot and killed them with a stolen gun. \\\\n\\\\nOfficer Mora was 27 years old. \\\\n\\\\nOfficer Rivera was 22. \\\\n\\\\nBoth Dominican Americans who\\\\u2019d grown up on the same streets they later chose to patrol as police officers. \\\\n\\\\nI spoke with their families and told them that we are forever in debt for their sacrifice, and we will carry on their mission to restore the trust and safety every community deserves.\\\\nSource: 24-pl\\\\nContent: And a proud Ukrainian people, who have known 30 years  of independence, have repeatedly shown that they will not tolerate anyone who tries to take their country backwards.  \\\\n\\\\nTo all Americans, I will be honest with you, as I\\\\u2019ve always promised. A Russian dictator, invading a foreign country, has costs around the world. \\\\n\\\\nAnd I\\\\u2019m taking robust action to make sure the pain of our sanctions  is targeted at Russia\\\\u2019s economy. And I will use every tool at our disposal to protect American businesses and consumers. \\\\n\\\\nTonight, I can announce that the United States has worked with 30 other countries to release 60 Million barrels of oil from reserves around the world.  \\\\n\\\\nAmerica will lead that effort, releasing 30 Million barrels from our own Strategic Petroleum Reserve. And we stand ready to do more if necessary, unified with our allies.  \\\\n\\\\nThese steps will help blunt gas prices here at home. And I know the news about what\\\\u2019s happening can seem alarming. \\\\n\\\\nBut I want you to know that we are going to be okay.\\\\nSource: 5-pl\\\\nContent: More support for patients and families. \\\\n\\\\nTo get there, I call on Congress to fund ARPA-H, the Advanced Research Projects Agency for Health. \\\\n\\\\nIt\\\\u2019s based on DARPA\\\\u2014the Defense Department project that led to the Internet, GPS, and so much more.  \\\\n\\\\nARPA-H will have a singular purpose\\\\u2014to drive breakthroughs in cancer, Alzheimer\\\\u2019s, diabetes, and more. \\\\n\\\\nA unity agenda for the nation. \\\\n\\\\nWe can do this. \\\\n\\\\nMy fellow Americans\\\\u2014tonight , we have gathered in a sacred space\\\\u2014the citadel of our democracy. \\\\n\\\\nIn this Capitol, generation after generation, Americans have debated great questions amid great strife, and have done great things. \\\\n\\\\nWe have fought for freedom, expanded liberty, defeated totalitarianism and terror. \\\\n\\\\nAnd built the strongest, freest, and most prosperous nation the world has ever known. \\\\n\\\\nNow is the hour. \\\\n\\\\nOur moment of responsibility. \\\\n\\\\nOur test of resolve and conscience, of history itself. \\\\n\\\\nIt is in this moment that our character is formed. Our purpose is found. Our future is forged. \\\\n\\\\nWell I know this nation.\\\\nSource: 34-pl\\\\n=========\\\\nFINAL ANSWER: The president did not mention Michael Jackson.\\\\nSOURCES:\\\\n\\\\nQUESTION: what is the price of Tiago iCNG?\\\\n=========\\\\nContent: \\\\nTata Motors has launched the Tiago iCNG with prices starting at Rs 7.1 lakh (ex-showroom Delhi).\\\\nSource: https://www.moneycontrol.com/news/business/tata-motors-launches-punch-icng-price-starts-at-rs-7-1-lakh-11098751.html\\\\n\\\\nContent:  This article does not contain any information about the price of Tiago iCNG. It primarily discusses the rise of Wall Street and the optimism surrounding Tesla\\'s advancements in artificial intelligence.\\\\nSource: https://www.moneycontrol.com/news/business/markets/wall-street-rises-as-tesla-soars-on-ai-optimism-11351111.html\\\\n=========\\\\nFINAL ANSWER:\"], \"model\": \"gpt-3.5-turbo-instruct\", \"temperature\": 0.7, \"max_tokens\": 256, \"top_p\": 1, \"frequency_penalty\": 0, \"presence_penalty\": 0, \"n\": 1, \"logit_bias\": {}}' message='Post details'\n"
     ]
    },
    {
     "name": "stdout",
     "output_type": "stream",
     "text": [
      "\u001b[36;1m\u001b[1;3m[llm/end]\u001b[0m \u001b[1m[1:chain:RetrievalQAWithSourcesChain > 3:chain:MapReduceDocumentsChain > 4:chain:LLMChain > 5:llm:OpenAI] [1.15s] Exiting LLM run with output:\n",
      "\u001b[0m{\n",
      "  \"generations\": [\n",
      "    [\n",
      "      {\n",
      "        \"text\": \"\\nTata Motors has launched the Tiago iCNG with prices starting at Rs 7.1 lakh (ex-showroom Delhi).\",\n",
      "        \"generation_info\": {\n",
      "          \"finish_reason\": \"stop\",\n",
      "          \"logprobs\": null\n",
      "        }\n",
      "      }\n",
      "    ]\n",
      "  ],\n",
      "  \"llm_output\": {\n",
      "    \"token_usage\": {\n",
      "      \"prompt_tokens\": 172,\n",
      "      \"completion_tokens\": 64,\n",
      "      \"total_tokens\": 236\n",
      "    },\n",
      "    \"model_name\": \"gpt-3.5-turbo-instruct\"\n",
      "  },\n",
      "  \"run\": null\n",
      "}\n",
      "\u001b[36;1m\u001b[1;3m[llm/end]\u001b[0m \u001b[1m[1:chain:RetrievalQAWithSourcesChain > 3:chain:MapReduceDocumentsChain > 4:chain:LLMChain > 6:llm:OpenAI] [1.15s] Exiting LLM run with output:\n",
      "\u001b[0m{\n",
      "  \"generations\": [\n",
      "    [\n",
      "      {\n",
      "        \"text\": \" This article does not contain any information about the price of Tiago iCNG. It primarily discusses the rise of Wall Street and the optimism surrounding Tesla's advancements in artificial intelligence.\",\n",
      "        \"generation_info\": {\n",
      "          \"finish_reason\": \"stop\",\n",
      "          \"logprobs\": null\n",
      "        }\n",
      "      }\n",
      "    ]\n",
      "  ],\n",
      "  \"llm_output\": {\n",
      "    \"token_usage\": {},\n",
      "    \"model_name\": \"gpt-3.5-turbo-instruct\"\n",
      "  },\n",
      "  \"run\": null\n",
      "}\n",
      "\u001b[36;1m\u001b[1;3m[chain/end]\u001b[0m \u001b[1m[1:chain:RetrievalQAWithSourcesChain > 3:chain:MapReduceDocumentsChain > 4:chain:LLMChain] [1.15s] Exiting Chain run with output:\n",
      "\u001b[0m{\n",
      "  \"outputs\": [\n",
      "    {\n",
      "      \"text\": \"\\nTata Motors has launched the Tiago iCNG with prices starting at Rs 7.1 lakh (ex-showroom Delhi).\"\n",
      "    },\n",
      "    {\n",
      "      \"text\": \" This article does not contain any information about the price of Tiago iCNG. It primarily discusses the rise of Wall Street and the optimism surrounding Tesla's advancements in artificial intelligence.\"\n",
      "    }\n",
      "  ]\n",
      "}\n",
      "\u001b[32;1m\u001b[1;3m[chain/start]\u001b[0m \u001b[1m[1:chain:RetrievalQAWithSourcesChain > 3:chain:MapReduceDocumentsChain > 7:chain:LLMChain] Entering Chain run with input:\n",
      "\u001b[0m{\n",
      "  \"question\": \"what is the price of Tiago iCNG?\",\n",
      "  \"summaries\": \"Content: \\nTata Motors has launched the Tiago iCNG with prices starting at Rs 7.1 lakh (ex-showroom Delhi).\\nSource: https://www.moneycontrol.com/news/business/tata-motors-launches-punch-icng-price-starts-at-rs-7-1-lakh-11098751.html\\n\\nContent:  This article does not contain any information about the price of Tiago iCNG. It primarily discusses the rise of Wall Street and the optimism surrounding Tesla's advancements in artificial intelligence.\\nSource: https://www.moneycontrol.com/news/business/markets/wall-street-rises-as-tesla-soars-on-ai-optimism-11351111.html\"\n",
      "}\n",
      "\u001b[32;1m\u001b[1;3m[llm/start]\u001b[0m \u001b[1m[1:chain:RetrievalQAWithSourcesChain > 3:chain:MapReduceDocumentsChain > 7:chain:LLMChain > 8:llm:OpenAI] Entering LLM run with input:\n",
      "\u001b[0m{\n",
      "  \"prompts\": [\n",
      "    \"Given the following extracted parts of a long document and a question, create a final answer with references (\\\"SOURCES\\\"). \\nIf you don't know the answer, just say that you don't know. Don't try to make up an answer.\\nALWAYS return a \\\"SOURCES\\\" part in your answer.\\n\\nQUESTION: Which state/country's law governs the interpretation of the contract?\\n=========\\nContent: This Agreement is governed by English law and the parties submit to the exclusive jurisdiction of the English courts in  relation to any dispute (contractual or non-contractual) concerning this Agreement save that either party may apply to any court for an  injunction or other relief to protect its Intellectual Property Rights.\\nSource: 28-pl\\nContent: No Waiver. Failure or delay in exercising any right or remedy under this Agreement shall not constitute a waiver of such (or any other)  right or remedy.\\n\\n11.7 Severability. The invalidity, illegality or unenforceability of any term (or part of a term) of this Agreement shall not affect the continuation  in force of the remainder of the term (if any) and this Agreement.\\n\\n11.8 No Agency. Except as expressly stated otherwise, nothing in this Agreement shall create an agency, partnership or joint venture of any  kind between the parties.\\n\\n11.9 No Third-Party Beneficiaries.\\nSource: 30-pl\\nContent: (b) if Google believes, in good faith, that the Distributor has violated or caused Google to violate any Anti-Bribery Laws (as  defined in Clause 8.5) or that such a violation is reasonably likely to occur,\\nSource: 4-pl\\n=========\\nFINAL ANSWER: This Agreement is governed by English law.\\nSOURCES: 28-pl\\n\\nQUESTION: What did the president say about Michael Jackson?\\n=========\\nContent: Madam Speaker, Madam Vice President, our First Lady and Second Gentleman. Members of Congress and the Cabinet. Justices of the Supreme Court. My fellow Americans.  \\n\\nLast year COVID-19 kept us apart. This year we are finally together again. \\n\\nTonight, we meet as Democrats Republicans and Independents. But most importantly as Americans. \\n\\nWith a duty to one another to the American people to the Constitution. \\n\\nAnd with an unwavering resolve that freedom will always triumph over tyranny. \\n\\nSix days ago, Russia’s Vladimir Putin sought to shake the foundations of the free world thinking he could make it bend to his menacing ways. But he badly miscalculated. \\n\\nHe thought he could roll into Ukraine and the world would roll over. Instead he met a wall of strength he never imagined. \\n\\nHe met the Ukrainian people. \\n\\nFrom President Zelenskyy to every Ukrainian, their fearlessness, their courage, their determination, inspires the world. \\n\\nGroups of citizens blocking tanks with their bodies. Everyone from students to retirees teachers turned soldiers defending their homeland.\\nSource: 0-pl\\nContent: And we won’t stop. \\n\\nWe have lost so much to COVID-19. Time with one another. And worst of all, so much loss of life. \\n\\nLet’s use this moment to reset. Let’s stop looking at COVID-19 as a partisan dividing line and see it for what it is: A God-awful disease.  \\n\\nLet’s stop seeing each other as enemies, and start seeing each other for who we really are: Fellow Americans.  \\n\\nWe can’t change how divided we’ve been. But we can change how we move forward—on COVID-19 and other issues we must face together. \\n\\nI recently visited the New York City Police Department days after the funerals of Officer Wilbert Mora and his partner, Officer Jason Rivera. \\n\\nThey were responding to a 9-1-1 call when a man shot and killed them with a stolen gun. \\n\\nOfficer Mora was 27 years old. \\n\\nOfficer Rivera was 22. \\n\\nBoth Dominican Americans who’d grown up on the same streets they later chose to patrol as police officers. \\n\\nI spoke with their families and told them that we are forever in debt for their sacrifice, and we will carry on their mission to restore the trust and safety every community deserves.\\nSource: 24-pl\\nContent: And a proud Ukrainian people, who have known 30 years  of independence, have repeatedly shown that they will not tolerate anyone who tries to take their country backwards.  \\n\\nTo all Americans, I will be honest with you, as I’ve always promised. A Russian dictator, invading a foreign country, has costs around the world. \\n\\nAnd I’m taking robust action to make sure the pain of our sanctions  is targeted at Russia’s economy. And I will use every tool at our disposal to protect American businesses and consumers. \\n\\nTonight, I can announce that the United States has worked with 30 other countries to release 60 Million barrels of oil from reserves around the world.  \\n\\nAmerica will lead that effort, releasing 30 Million barrels from our own Strategic Petroleum Reserve. And we stand ready to do more if necessary, unified with our allies.  \\n\\nThese steps will help blunt gas prices here at home. And I know the news about what’s happening can seem alarming. \\n\\nBut I want you to know that we are going to be okay.\\nSource: 5-pl\\nContent: More support for patients and families. \\n\\nTo get there, I call on Congress to fund ARPA-H, the Advanced Research Projects Agency for Health. \\n\\nIt’s based on DARPA—the Defense Department project that led to the Internet, GPS, and so much more.  \\n\\nARPA-H will have a singular purpose—to drive breakthroughs in cancer, Alzheimer’s, diabetes, and more. \\n\\nA unity agenda for the nation. \\n\\nWe can do this. \\n\\nMy fellow Americans—tonight , we have gathered in a sacred space—the citadel of our democracy. \\n\\nIn this Capitol, generation after generation, Americans have debated great questions amid great strife, and have done great things. \\n\\nWe have fought for freedom, expanded liberty, defeated totalitarianism and terror. \\n\\nAnd built the strongest, freest, and most prosperous nation the world has ever known. \\n\\nNow is the hour. \\n\\nOur moment of responsibility. \\n\\nOur test of resolve and conscience, of history itself. \\n\\nIt is in this moment that our character is formed. Our purpose is found. Our future is forged. \\n\\nWell I know this nation.\\nSource: 34-pl\\n=========\\nFINAL ANSWER: The president did not mention Michael Jackson.\\nSOURCES:\\n\\nQUESTION: what is the price of Tiago iCNG?\\n=========\\nContent: \\nTata Motors has launched the Tiago iCNG with prices starting at Rs 7.1 lakh (ex-showroom Delhi).\\nSource: https://www.moneycontrol.com/news/business/tata-motors-launches-punch-icng-price-starts-at-rs-7-1-lakh-11098751.html\\n\\nContent:  This article does not contain any information about the price of Tiago iCNG. It primarily discusses the rise of Wall Street and the optimism surrounding Tesla's advancements in artificial intelligence.\\nSource: https://www.moneycontrol.com/news/business/markets/wall-street-rises-as-tesla-soars-on-ai-optimism-11351111.html\\n=========\\nFINAL ANSWER:\"\n",
      "  ]\n",
      "}\n"
     ]
    },
    {
     "name": "stderr",
     "output_type": "stream",
     "text": [
      "DEBUG:urllib3.connectionpool:https://api.openai.com:443 \"POST /v1/completions HTTP/1.1\" 200 None\n",
      "DEBUG:openai:message='OpenAI API response' path=https://api.openai.com/v1/completions processing_ms=822 request_id=req_e51948fce1bf944ab1f47cc9d44afbae response_code=200\n"
     ]
    },
    {
     "name": "stdout",
     "output_type": "stream",
     "text": [
      "\u001b[36;1m\u001b[1;3m[llm/end]\u001b[0m \u001b[1m[1:chain:RetrievalQAWithSourcesChain > 3:chain:MapReduceDocumentsChain > 7:chain:LLMChain > 8:llm:OpenAI] [1.29s] Exiting LLM run with output:\n",
      "\u001b[0m{\n",
      "  \"generations\": [\n",
      "    [\n",
      "      {\n",
      "        \"text\": \" The price of Tiago iCNG is Rs 7.1 lakh (ex-showroom Delhi).\\nSOURCES: https://www.moneycontrol.com/news/business/tata-motors-launches-punch-icng-price-starts-at-rs-7-1-lakh-11098751.html\",\n",
      "        \"generation_info\": {\n",
      "          \"finish_reason\": \"stop\",\n",
      "          \"logprobs\": null\n",
      "        }\n",
      "      }\n",
      "    ]\n",
      "  ],\n",
      "  \"llm_output\": {\n",
      "    \"token_usage\": {\n",
      "      \"prompt_tokens\": 1497,\n",
      "      \"completion_tokens\": 61,\n",
      "      \"total_tokens\": 1558\n",
      "    },\n",
      "    \"model_name\": \"gpt-3.5-turbo-instruct\"\n",
      "  },\n",
      "  \"run\": null\n",
      "}\n",
      "\u001b[36;1m\u001b[1;3m[chain/end]\u001b[0m \u001b[1m[1:chain:RetrievalQAWithSourcesChain > 3:chain:MapReduceDocumentsChain > 7:chain:LLMChain] [1.29s] Exiting Chain run with output:\n",
      "\u001b[0m{\n",
      "  \"text\": \" The price of Tiago iCNG is Rs 7.1 lakh (ex-showroom Delhi).\\nSOURCES: https://www.moneycontrol.com/news/business/tata-motors-launches-punch-icng-price-starts-at-rs-7-1-lakh-11098751.html\"\n",
      "}\n",
      "\u001b[36;1m\u001b[1;3m[chain/end]\u001b[0m \u001b[1m[1:chain:RetrievalQAWithSourcesChain > 3:chain:MapReduceDocumentsChain] [2.45s] Exiting Chain run with output:\n",
      "\u001b[0m{\n",
      "  \"output_text\": \" The price of Tiago iCNG is Rs 7.1 lakh (ex-showroom Delhi).\\nSOURCES: https://www.moneycontrol.com/news/business/tata-motors-launches-punch-icng-price-starts-at-rs-7-1-lakh-11098751.html\"\n",
      "}\n",
      "\u001b[36;1m\u001b[1;3m[chain/end]\u001b[0m \u001b[1m[1:chain:RetrievalQAWithSourcesChain] [2.89s] Exiting Chain run with output:\n",
      "\u001b[0m{\n",
      "  \"answer\": \" The price of Tiago iCNG is Rs 7.1 lakh (ex-showroom Delhi).\\n\",\n",
      "  \"sources\": \"https://www.moneycontrol.com/news/business/tata-motors-launches-punch-icng-price-starts-at-rs-7-1-lakh-11098751.html\"\n",
      "}\n",
      "{'answer': ' The price of Tiago iCNG is Rs 7.1 lakh (ex-showroom Delhi).\\n', 'sources': 'https://www.moneycontrol.com/news/business/tata-motors-launches-punch-icng-price-starts-at-rs-7-1-lakh-11098751.html'}\n"
     ]
    }
   ],
   "source": [
    "import logging\n",
    "logging.basicConfig(level=logging.DEBUG)\n",
    "langchain.debug = True\n",
    "\n",
    "result = chain({\"question\": query}, return_only_outputs=True)\n",
    "print(result)\n"
   ]
  },
  {
   "cell_type": "code",
   "execution_count": null,
   "id": "168698af",
   "metadata": {},
   "outputs": [],
   "source": []
  },
  {
   "cell_type": "code",
   "execution_count": null,
   "id": "04d86e41",
   "metadata": {},
   "outputs": [],
   "source": []
  }
 ],
 "metadata": {
  "kernelspec": {
   "display_name": "Python 3",
   "language": "python",
   "name": "python3"
  },
  "language_info": {
   "codemirror_mode": {
    "name": "ipython",
    "version": 3
   },
   "file_extension": ".py",
   "mimetype": "text/x-python",
   "name": "python",
   "nbconvert_exporter": "python",
   "pygments_lexer": "ipython3",
   "version": "3.9.11"
  }
 },
 "nbformat": 4,
 "nbformat_minor": 5
}
